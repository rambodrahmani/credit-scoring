{
 "cells": [
  {
   "cell_type": "code",
   "execution_count": 1,
   "id": "6e34ec60-6441-4a90-b02d-2153dddf9e0b",
   "metadata": {},
   "outputs": [],
   "source": [
    "import pandas as pd\n",
    "import numpy as np\n",
    "import matplotlib.pyplot as plt\n",
    "import seaborn as sns\n",
    "\n",
    "from sklearn import metrics\n",
    "from sklearn.linear_model import LogisticRegression\n",
    "from sklearn.model_selection import train_test_split\n",
    "\n",
    "from src import utilities\n",
    "from src import optimization"
   ]
  },
  {
   "cell_type": "code",
   "execution_count": 2,
   "id": "d02ef373-cff4-41a5-8f64-334cca7cee76",
   "metadata": {},
   "outputs": [],
   "source": [
    "ger_dataset_path = '../../../datasets/preprocessed/ger/'\n",
    "features_scores = utilities.read_features_scores(ger_dataset_path)\n",
    "train_data = utilities.read_parquet(ger_dataset_path + 'train.parquet')"
   ]
  },
  {
   "cell_type": "code",
   "execution_count": 3,
   "id": "3b2aa784-5f0c-4b0a-8258-420d2fb0a2ed",
   "metadata": {},
   "outputs": [
    {
     "data": {
      "text/plain": [
       "array([False,  True,  True,  True, False, False,  True,  True, False,\n",
       "       False, False, False, False, False, False,  True, False, False,\n",
       "       False, False, False,  True,  True, False,  True,  True,  True,\n",
       "        True,  True, False, False, False,  True,  True,  True, False,\n",
       "        True, False,  True, False, False,  True, False, False, False,\n",
       "       False, False,  True,  True, False,  True,  True, False, False,\n",
       "       False,  True,  True, False, False, False, False,  True,  True,\n",
       "       False, False, False,  True, False,  True, False,  True,  True,\n",
       "       False, False, False, False, False,  True, False, False, False,\n",
       "       False, False, False,  True, False, False, False, False,  True,\n",
       "       False,  True, False,  True,  True, False, False, False, False,\n",
       "       False,  True, False,  True, False, False,  True,  True, False,\n",
       "       False, False, False, False, False,  True, False, False, False,\n",
       "       False, False, False,  True,  True, False, False, False,  True,\n",
       "        True, False,  True, False, False,  True, False, False, False,\n",
       "       False,  True, False, False, False,  True, False, False, False,\n",
       "        True,  True,  True, False, False,  True, False, False, False,\n",
       "        True,  True, False,  True,  True, False, False, False,  True,\n",
       "        True, False, False, False,  True, False, False, False, False,\n",
       "       False,  True, False, False, False,  True, False,  True, False,\n",
       "       False, False, False, False, False, False,  True,  True, False,\n",
       "        True,  True,  True, False, False, False,  True, False, False,\n",
       "       False, False,  True, False, False, False, False, False, False,\n",
       "       False,  True,  True, False, False, False, False,  True,  True,\n",
       "       False, False, False, False, False, False,  True,  True, False,\n",
       "        True,  True, False, False,  True, False,  True, False,  True,\n",
       "        True, False, False, False,  True, False, False, False, False,\n",
       "       False, False, False, False, False,  True, False, False, False,\n",
       "       False, False, False, False, False, False,  True,  True, False,\n",
       "       False, False, False,  True, False,  True,  True, False,  True,\n",
       "       False, False, False, False, False, False, False,  True, False,\n",
       "       False,  True, False, False, False,  True, False, False, False,\n",
       "       False,  True,  True, False,  True, False,  True, False, False,\n",
       "        True, False, False, False, False, False, False, False, False,\n",
       "       False, False,  True,  True, False, False, False,  True,  True,\n",
       "        True, False, False,  True,  True,  True,  True, False, False,\n",
       "       False, False,  True,  True,  True,  True, False,  True,  True,\n",
       "       False, False, False, False,  True, False, False,  True,  True,\n",
       "       False, False, False, False, False, False, False, False, False,\n",
       "       False,  True,  True,  True, False,  True, False, False,  True,\n",
       "        True, False, False, False, False, False, False, False,  True,\n",
       "       False, False, False, False, False,  True,  True,  True, False,\n",
       "       False, False, False, False,  True, False,  True,  True, False,\n",
       "       False,  True,  True, False,  True, False, False, False, False,\n",
       "       False, False,  True, False,  True, False, False, False, False,\n",
       "       False,  True, False, False, False, False, False, False, False,\n",
       "        True, False,  True, False, False, False,  True, False, False,\n",
       "       False,  True, False, False, False, False,  True, False, False,\n",
       "       False, False, False, False, False, False,  True, False, False,\n",
       "        True, False, False, False, False, False,  True, False, False,\n",
       "        True, False,  True, False,  True, False,  True, False, False,\n",
       "       False,  True, False, False, False, False,  True, False, False,\n",
       "        True, False, False, False, False, False, False, False,  True,\n",
       "       False, False, False, False, False,  True,  True, False, False,\n",
       "        True, False, False, False, False, False,  True, False, False,\n",
       "       False, False,  True, False,  True, False, False,  True, False,\n",
       "       False, False,  True, False, False, False, False, False, False,\n",
       "       False, False, False, False, False, False, False,  True, False,\n",
       "       False, False, False, False,  True,  True, False, False, False,\n",
       "       False, False,  True,  True, False, False, False,  True, False,\n",
       "       False,  True, False, False, False, False, False,  True, False,\n",
       "       False,  True, False, False, False, False, False, False,  True,\n",
       "       False,  True,  True, False, False, False, False, False, False,\n",
       "       False, False,  True,  True,  True, False, False, False, False,\n",
       "        True,  True,  True,  True,  True,  True, False, False, False,\n",
       "        True, False, False, False, False,  True, False, False,  True,\n",
       "       False, False,  True, False, False, False, False, False,  True,\n",
       "       False, False, False, False, False, False,  True, False, False,\n",
       "        True,  True, False,  True,  True,  True, False,  True, False,\n",
       "       False, False, False, False, False, False, False, False, False,\n",
       "       False, False, False,  True, False, False, False,  True,  True,\n",
       "        True, False, False, False,  True, False,  True, False, False,\n",
       "       False,  True, False, False,  True, False, False, False, False,\n",
       "       False, False, False, False, False, False, False, False, False,\n",
       "       False,  True,  True, False, False,  True, False, False, False,\n",
       "       False, False, False, False, False, False, False,  True,  True,\n",
       "       False, False, False, False, False, False, False, False,  True,\n",
       "        True, False,  True, False, False,  True, False, False, False,\n",
       "        True, False, False, False, False, False,  True,  True,  True,\n",
       "       False, False,  True, False, False, False, False, False, False,\n",
       "       False,  True, False,  True, False, False, False, False, False,\n",
       "       False, False,  True,  True, False, False, False, False,  True,\n",
       "       False, False, False,  True, False,  True,  True,  True, False,\n",
       "       False,  True, False, False, False,  True, False, False, False,\n",
       "       False, False,  True, False,  True,  True, False, False, False,\n",
       "       False, False, False, False, False,  True, False,  True, False,\n",
       "        True, False,  True, False, False,  True,  True,  True, False,\n",
       "       False, False, False, False, False,  True, False, False,  True,\n",
       "       False, False, False,  True,  True, False, False, False])"
      ]
     },
     "execution_count": 3,
     "metadata": {},
     "output_type": "execute_result"
    }
   ],
   "source": [
    "target = 'defaulted'\n",
    "y = np.array(train_data[target])\n",
    "y"
   ]
  },
  {
   "cell_type": "code",
   "execution_count": 4,
   "id": "453b8afc-b1e4-4e2e-aad9-97d17c8b1c6a",
   "metadata": {},
   "outputs": [
    {
     "data": {
      "text/html": [
       "<div>\n",
       "<style scoped>\n",
       "    .dataframe tbody tr th:only-of-type {\n",
       "        vertical-align: middle;\n",
       "    }\n",
       "\n",
       "    .dataframe tbody tr th {\n",
       "        vertical-align: top;\n",
       "    }\n",
       "\n",
       "    .dataframe thead th {\n",
       "        text-align: right;\n",
       "    }\n",
       "</style>\n",
       "<table border=\"1\" class=\"dataframe\">\n",
       "  <thead>\n",
       "    <tr style=\"text-align: right;\">\n",
       "      <th></th>\n",
       "      <th>exist-check-acc-status</th>\n",
       "      <th>duration</th>\n",
       "      <th>credit-history</th>\n",
       "      <th>purpose</th>\n",
       "      <th>credit-amount</th>\n",
       "      <th>sav-acc</th>\n",
       "      <th>employment-years</th>\n",
       "      <th>install-rate</th>\n",
       "      <th>marriage-sex</th>\n",
       "      <th>guarantor</th>\n",
       "      <th>residency-dur</th>\n",
       "      <th>property</th>\n",
       "      <th>age</th>\n",
       "      <th>other-install-plans</th>\n",
       "      <th>housing</th>\n",
       "      <th>existing-credits</th>\n",
       "      <th>job</th>\n",
       "      <th>phone-provided</th>\n",
       "    </tr>\n",
       "  </thead>\n",
       "  <tbody>\n",
       "    <tr>\n",
       "      <th>0</th>\n",
       "      <td>1.176263</td>\n",
       "      <td>-0.278767</td>\n",
       "      <td>0.733741</td>\n",
       "      <td>0.410063</td>\n",
       "      <td>0.194992</td>\n",
       "      <td>-0.271358</td>\n",
       "      <td>-0.032103</td>\n",
       "      <td>-0.157300</td>\n",
       "      <td>-0.235341</td>\n",
       "      <td>-0.027974</td>\n",
       "      <td>-0.016367</td>\n",
       "      <td>-0.034191</td>\n",
       "      <td>-0.046227</td>\n",
       "      <td>0.121179</td>\n",
       "      <td>0.194156</td>\n",
       "      <td>-0.075836</td>\n",
       "      <td>0.022780</td>\n",
       "      <td>0.098638</td>\n",
       "    </tr>\n",
       "    <tr>\n",
       "      <th>1</th>\n",
       "      <td>-0.818099</td>\n",
       "      <td>-0.623823</td>\n",
       "      <td>-0.088319</td>\n",
       "      <td>-0.353105</td>\n",
       "      <td>0.194992</td>\n",
       "      <td>-0.271358</td>\n",
       "      <td>-0.470820</td>\n",
       "      <td>-0.157300</td>\n",
       "      <td>-0.235341</td>\n",
       "      <td>-0.027974</td>\n",
       "      <td>-0.016367</td>\n",
       "      <td>-0.034191</td>\n",
       "      <td>-0.046227</td>\n",
       "      <td>0.121179</td>\n",
       "      <td>0.194156</td>\n",
       "      <td>-0.075836</td>\n",
       "      <td>0.022780</td>\n",
       "      <td>0.098638</td>\n",
       "    </tr>\n",
       "    <tr>\n",
       "      <th>2</th>\n",
       "      <td>-0.818099</td>\n",
       "      <td>0.168017</td>\n",
       "      <td>-1.234071</td>\n",
       "      <td>-0.353105</td>\n",
       "      <td>-0.129812</td>\n",
       "      <td>-0.271358</td>\n",
       "      <td>-0.032103</td>\n",
       "      <td>-0.157300</td>\n",
       "      <td>0.165548</td>\n",
       "      <td>-0.027974</td>\n",
       "      <td>-0.016367</td>\n",
       "      <td>-0.034191</td>\n",
       "      <td>0.279650</td>\n",
       "      <td>-0.477551</td>\n",
       "      <td>0.194156</td>\n",
       "      <td>0.138930</td>\n",
       "      <td>0.022780</td>\n",
       "      <td>-0.064691</td>\n",
       "    </tr>\n",
       "    <tr>\n",
       "      <th>3</th>\n",
       "      <td>-0.818099</td>\n",
       "      <td>0.168017</td>\n",
       "      <td>-0.088319</td>\n",
       "      <td>-0.353105</td>\n",
       "      <td>-0.129812</td>\n",
       "      <td>-0.271358</td>\n",
       "      <td>-0.470820</td>\n",
       "      <td>0.064539</td>\n",
       "      <td>-0.235341</td>\n",
       "      <td>-0.027974</td>\n",
       "      <td>0.112478</td>\n",
       "      <td>0.461035</td>\n",
       "      <td>0.385750</td>\n",
       "      <td>0.121179</td>\n",
       "      <td>0.194156</td>\n",
       "      <td>-0.075836</td>\n",
       "      <td>0.097164</td>\n",
       "      <td>-0.064691</td>\n",
       "    </tr>\n",
       "    <tr>\n",
       "      <th>4</th>\n",
       "      <td>1.176263</td>\n",
       "      <td>-0.195526</td>\n",
       "      <td>-0.088319</td>\n",
       "      <td>-0.230524</td>\n",
       "      <td>-0.129812</td>\n",
       "      <td>-0.271358</td>\n",
       "      <td>0.394415</td>\n",
       "      <td>-0.157300</td>\n",
       "      <td>0.165548</td>\n",
       "      <td>-0.027974</td>\n",
       "      <td>0.112478</td>\n",
       "      <td>0.461035</td>\n",
       "      <td>-0.524461</td>\n",
       "      <td>0.121179</td>\n",
       "      <td>0.194156</td>\n",
       "      <td>-0.075836</td>\n",
       "      <td>0.022780</td>\n",
       "      <td>0.098638</td>\n",
       "    </tr>\n",
       "    <tr>\n",
       "      <th>...</th>\n",
       "      <td>...</td>\n",
       "      <td>...</td>\n",
       "      <td>...</td>\n",
       "      <td>...</td>\n",
       "      <td>...</td>\n",
       "      <td>...</td>\n",
       "      <td>...</td>\n",
       "      <td>...</td>\n",
       "      <td>...</td>\n",
       "      <td>...</td>\n",
       "      <td>...</td>\n",
       "      <td>...</td>\n",
       "      <td>...</td>\n",
       "      <td>...</td>\n",
       "      <td>...</td>\n",
       "      <td>...</td>\n",
       "      <td>...</td>\n",
       "      <td>...</td>\n",
       "    </tr>\n",
       "    <tr>\n",
       "      <th>795</th>\n",
       "      <td>-0.818099</td>\n",
       "      <td>0.168017</td>\n",
       "      <td>-0.088319</td>\n",
       "      <td>-0.353105</td>\n",
       "      <td>-0.129812</td>\n",
       "      <td>-0.271358</td>\n",
       "      <td>-0.032103</td>\n",
       "      <td>-0.157300</td>\n",
       "      <td>-0.235341</td>\n",
       "      <td>-0.027974</td>\n",
       "      <td>-0.016367</td>\n",
       "      <td>0.461035</td>\n",
       "      <td>-0.524461</td>\n",
       "      <td>0.121179</td>\n",
       "      <td>0.194156</td>\n",
       "      <td>-0.075836</td>\n",
       "      <td>0.097164</td>\n",
       "      <td>-0.064691</td>\n",
       "    </tr>\n",
       "    <tr>\n",
       "      <th>796</th>\n",
       "      <td>1.176263</td>\n",
       "      <td>-0.195526</td>\n",
       "      <td>-0.088319</td>\n",
       "      <td>-0.230524</td>\n",
       "      <td>-0.440023</td>\n",
       "      <td>0.862784</td>\n",
       "      <td>-0.032103</td>\n",
       "      <td>0.155466</td>\n",
       "      <td>0.165548</td>\n",
       "      <td>-0.027974</td>\n",
       "      <td>-0.016367</td>\n",
       "      <td>-0.028573</td>\n",
       "      <td>-0.066386</td>\n",
       "      <td>0.121179</td>\n",
       "      <td>0.194156</td>\n",
       "      <td>0.138930</td>\n",
       "      <td>-0.189242</td>\n",
       "      <td>0.098638</td>\n",
       "    </tr>\n",
       "    <tr>\n",
       "      <th>797</th>\n",
       "      <td>-0.401392</td>\n",
       "      <td>0.454297</td>\n",
       "      <td>-0.088319</td>\n",
       "      <td>-0.353105</td>\n",
       "      <td>0.194992</td>\n",
       "      <td>0.704246</td>\n",
       "      <td>-0.032103</td>\n",
       "      <td>0.251314</td>\n",
       "      <td>-0.235341</td>\n",
       "      <td>-0.027974</td>\n",
       "      <td>-0.016367</td>\n",
       "      <td>0.461035</td>\n",
       "      <td>-0.046227</td>\n",
       "      <td>0.121179</td>\n",
       "      <td>0.194156</td>\n",
       "      <td>-0.075836</td>\n",
       "      <td>0.097164</td>\n",
       "      <td>-0.064691</td>\n",
       "    </tr>\n",
       "    <tr>\n",
       "      <th>798</th>\n",
       "      <td>1.176263</td>\n",
       "      <td>1.181636</td>\n",
       "      <td>0.733741</td>\n",
       "      <td>-0.353105</td>\n",
       "      <td>-0.216952</td>\n",
       "      <td>-0.139552</td>\n",
       "      <td>-0.032103</td>\n",
       "      <td>-0.157300</td>\n",
       "      <td>-0.235341</td>\n",
       "      <td>-0.027974</td>\n",
       "      <td>-0.016367</td>\n",
       "      <td>-0.034191</td>\n",
       "      <td>0.279650</td>\n",
       "      <td>0.121179</td>\n",
       "      <td>0.194156</td>\n",
       "      <td>0.138930</td>\n",
       "      <td>0.097164</td>\n",
       "      <td>-0.064691</td>\n",
       "    </tr>\n",
       "    <tr>\n",
       "      <th>799</th>\n",
       "      <td>-0.818099</td>\n",
       "      <td>0.168017</td>\n",
       "      <td>-0.088319</td>\n",
       "      <td>0.410063</td>\n",
       "      <td>0.194992</td>\n",
       "      <td>0.862784</td>\n",
       "      <td>0.235566</td>\n",
       "      <td>0.064539</td>\n",
       "      <td>0.138519</td>\n",
       "      <td>-0.027974</td>\n",
       "      <td>0.112478</td>\n",
       "      <td>0.461035</td>\n",
       "      <td>0.876871</td>\n",
       "      <td>0.121179</td>\n",
       "      <td>0.194156</td>\n",
       "      <td>-0.075836</td>\n",
       "      <td>0.022780</td>\n",
       "      <td>-0.064691</td>\n",
       "    </tr>\n",
       "  </tbody>\n",
       "</table>\n",
       "<p>800 rows × 18 columns</p>\n",
       "</div>"
      ],
      "text/plain": [
       "     exist-check-acc-status  duration  credit-history   purpose  \\\n",
       "0                  1.176263 -0.278767        0.733741  0.410063   \n",
       "1                 -0.818099 -0.623823       -0.088319 -0.353105   \n",
       "2                 -0.818099  0.168017       -1.234071 -0.353105   \n",
       "3                 -0.818099  0.168017       -0.088319 -0.353105   \n",
       "4                  1.176263 -0.195526       -0.088319 -0.230524   \n",
       "..                      ...       ...             ...       ...   \n",
       "795               -0.818099  0.168017       -0.088319 -0.353105   \n",
       "796                1.176263 -0.195526       -0.088319 -0.230524   \n",
       "797               -0.401392  0.454297       -0.088319 -0.353105   \n",
       "798                1.176263  1.181636        0.733741 -0.353105   \n",
       "799               -0.818099  0.168017       -0.088319  0.410063   \n",
       "\n",
       "     credit-amount   sav-acc  employment-years  install-rate  marriage-sex  \\\n",
       "0         0.194992 -0.271358         -0.032103     -0.157300     -0.235341   \n",
       "1         0.194992 -0.271358         -0.470820     -0.157300     -0.235341   \n",
       "2        -0.129812 -0.271358         -0.032103     -0.157300      0.165548   \n",
       "3        -0.129812 -0.271358         -0.470820      0.064539     -0.235341   \n",
       "4        -0.129812 -0.271358          0.394415     -0.157300      0.165548   \n",
       "..             ...       ...               ...           ...           ...   \n",
       "795      -0.129812 -0.271358         -0.032103     -0.157300     -0.235341   \n",
       "796      -0.440023  0.862784         -0.032103      0.155466      0.165548   \n",
       "797       0.194992  0.704246         -0.032103      0.251314     -0.235341   \n",
       "798      -0.216952 -0.139552         -0.032103     -0.157300     -0.235341   \n",
       "799       0.194992  0.862784          0.235566      0.064539      0.138519   \n",
       "\n",
       "     guarantor  residency-dur  property       age  other-install-plans  \\\n",
       "0    -0.027974      -0.016367 -0.034191 -0.046227             0.121179   \n",
       "1    -0.027974      -0.016367 -0.034191 -0.046227             0.121179   \n",
       "2    -0.027974      -0.016367 -0.034191  0.279650            -0.477551   \n",
       "3    -0.027974       0.112478  0.461035  0.385750             0.121179   \n",
       "4    -0.027974       0.112478  0.461035 -0.524461             0.121179   \n",
       "..         ...            ...       ...       ...                  ...   \n",
       "795  -0.027974      -0.016367  0.461035 -0.524461             0.121179   \n",
       "796  -0.027974      -0.016367 -0.028573 -0.066386             0.121179   \n",
       "797  -0.027974      -0.016367  0.461035 -0.046227             0.121179   \n",
       "798  -0.027974      -0.016367 -0.034191  0.279650             0.121179   \n",
       "799  -0.027974       0.112478  0.461035  0.876871             0.121179   \n",
       "\n",
       "      housing  existing-credits       job  phone-provided  \n",
       "0    0.194156         -0.075836  0.022780        0.098638  \n",
       "1    0.194156         -0.075836  0.022780        0.098638  \n",
       "2    0.194156          0.138930  0.022780       -0.064691  \n",
       "3    0.194156         -0.075836  0.097164       -0.064691  \n",
       "4    0.194156         -0.075836  0.022780        0.098638  \n",
       "..        ...               ...       ...             ...  \n",
       "795  0.194156         -0.075836  0.097164       -0.064691  \n",
       "796  0.194156          0.138930 -0.189242        0.098638  \n",
       "797  0.194156         -0.075836  0.097164       -0.064691  \n",
       "798  0.194156          0.138930  0.097164       -0.064691  \n",
       "799  0.194156         -0.075836  0.022780       -0.064691  \n",
       "\n",
       "[800 rows x 18 columns]"
      ]
     },
     "execution_count": 4,
     "metadata": {},
     "output_type": "execute_result"
    }
   ],
   "source": [
    "X = train_data.drop([target], axis=1, inplace=False)\n",
    "X"
   ]
  },
  {
   "cell_type": "code",
   "execution_count": 5,
   "id": "700a5952-4b6a-45e4-830e-913ec62c7e3f",
   "metadata": {},
   "outputs": [],
   "source": [
    "X_train, X_test, y_train, y_test = train_test_split(X, y, test_size=0.25)"
   ]
  },
  {
   "cell_type": "code",
   "execution_count": 6,
   "id": "ddde2796-1147-4a40-80f9-704f76a1ad9b",
   "metadata": {},
   "outputs": [
    {
     "data": {
      "text/html": [
       "<div>\n",
       "<style scoped>\n",
       "    .dataframe tbody tr th:only-of-type {\n",
       "        vertical-align: middle;\n",
       "    }\n",
       "\n",
       "    .dataframe tbody tr th {\n",
       "        vertical-align: top;\n",
       "    }\n",
       "\n",
       "    .dataframe thead th {\n",
       "        text-align: right;\n",
       "    }\n",
       "</style>\n",
       "<table border=\"1\" class=\"dataframe\">\n",
       "  <thead>\n",
       "    <tr style=\"text-align: right;\">\n",
       "      <th></th>\n",
       "      <th>exist-check-acc-status</th>\n",
       "      <th>duration</th>\n",
       "      <th>credit-history</th>\n",
       "      <th>purpose</th>\n",
       "      <th>credit-amount</th>\n",
       "      <th>sav-acc</th>\n",
       "      <th>employment-years</th>\n",
       "      <th>install-rate</th>\n",
       "      <th>marriage-sex</th>\n",
       "      <th>guarantor</th>\n",
       "      <th>residency-dur</th>\n",
       "      <th>property</th>\n",
       "      <th>age</th>\n",
       "      <th>other-install-plans</th>\n",
       "      <th>housing</th>\n",
       "      <th>existing-credits</th>\n",
       "      <th>job</th>\n",
       "      <th>phone-provided</th>\n",
       "    </tr>\n",
       "  </thead>\n",
       "  <tbody>\n",
       "    <tr>\n",
       "      <th>663</th>\n",
       "      <td>1.176263</td>\n",
       "      <td>0.454297</td>\n",
       "      <td>-0.088319</td>\n",
       "      <td>-0.099235</td>\n",
       "      <td>0.194992</td>\n",
       "      <td>-0.271358</td>\n",
       "      <td>-0.032103</td>\n",
       "      <td>-0.157300</td>\n",
       "      <td>-0.235341</td>\n",
       "      <td>-0.027974</td>\n",
       "      <td>-0.016367</td>\n",
       "      <td>0.461035</td>\n",
       "      <td>-0.065685</td>\n",
       "      <td>0.121179</td>\n",
       "      <td>-0.404445</td>\n",
       "      <td>-0.075836</td>\n",
       "      <td>0.022780</td>\n",
       "      <td>-0.064691</td>\n",
       "    </tr>\n",
       "    <tr>\n",
       "      <th>695</th>\n",
       "      <td>-0.818099</td>\n",
       "      <td>-0.195526</td>\n",
       "      <td>-0.088319</td>\n",
       "      <td>-0.099235</td>\n",
       "      <td>0.194992</td>\n",
       "      <td>-0.271358</td>\n",
       "      <td>0.235566</td>\n",
       "      <td>-0.157300</td>\n",
       "      <td>0.165548</td>\n",
       "      <td>-0.027974</td>\n",
       "      <td>-0.016367</td>\n",
       "      <td>-0.028573</td>\n",
       "      <td>0.279650</td>\n",
       "      <td>0.121179</td>\n",
       "      <td>-0.404445</td>\n",
       "      <td>-0.075836</td>\n",
       "      <td>-0.189242</td>\n",
       "      <td>0.098638</td>\n",
       "    </tr>\n",
       "    <tr>\n",
       "      <th>551</th>\n",
       "      <td>0.405465</td>\n",
       "      <td>-0.278767</td>\n",
       "      <td>0.733741</td>\n",
       "      <td>0.410063</td>\n",
       "      <td>0.194992</td>\n",
       "      <td>-0.271358</td>\n",
       "      <td>0.235566</td>\n",
       "      <td>-0.157300</td>\n",
       "      <td>0.165548</td>\n",
       "      <td>-0.027974</td>\n",
       "      <td>-0.016367</td>\n",
       "      <td>-0.028573</td>\n",
       "      <td>0.279650</td>\n",
       "      <td>0.121179</td>\n",
       "      <td>0.194156</td>\n",
       "      <td>-0.075836</td>\n",
       "      <td>0.022780</td>\n",
       "      <td>-0.064691</td>\n",
       "    </tr>\n",
       "    <tr>\n",
       "      <th>432</th>\n",
       "      <td>1.176263</td>\n",
       "      <td>1.181636</td>\n",
       "      <td>0.733741</td>\n",
       "      <td>-0.353105</td>\n",
       "      <td>-0.505406</td>\n",
       "      <td>-0.271358</td>\n",
       "      <td>0.394415</td>\n",
       "      <td>0.251314</td>\n",
       "      <td>0.165548</td>\n",
       "      <td>-0.027974</td>\n",
       "      <td>-0.016367</td>\n",
       "      <td>-0.586082</td>\n",
       "      <td>0.279650</td>\n",
       "      <td>0.121179</td>\n",
       "      <td>0.194156</td>\n",
       "      <td>0.138930</td>\n",
       "      <td>-0.189242</td>\n",
       "      <td>0.098638</td>\n",
       "    </tr>\n",
       "    <tr>\n",
       "      <th>782</th>\n",
       "      <td>1.176263</td>\n",
       "      <td>0.168017</td>\n",
       "      <td>0.733741</td>\n",
       "      <td>-0.587787</td>\n",
       "      <td>0.194992</td>\n",
       "      <td>-0.139552</td>\n",
       "      <td>-0.032103</td>\n",
       "      <td>-0.157300</td>\n",
       "      <td>-0.235341</td>\n",
       "      <td>-0.027974</td>\n",
       "      <td>-0.016367</td>\n",
       "      <td>-0.034191</td>\n",
       "      <td>-0.046227</td>\n",
       "      <td>0.121179</td>\n",
       "      <td>0.194156</td>\n",
       "      <td>-0.075836</td>\n",
       "      <td>0.022780</td>\n",
       "      <td>-0.064691</td>\n",
       "    </tr>\n",
       "    <tr>\n",
       "      <th>...</th>\n",
       "      <td>...</td>\n",
       "      <td>...</td>\n",
       "      <td>...</td>\n",
       "      <td>...</td>\n",
       "      <td>...</td>\n",
       "      <td>...</td>\n",
       "      <td>...</td>\n",
       "      <td>...</td>\n",
       "      <td>...</td>\n",
       "      <td>...</td>\n",
       "      <td>...</td>\n",
       "      <td>...</td>\n",
       "      <td>...</td>\n",
       "      <td>...</td>\n",
       "      <td>...</td>\n",
       "      <td>...</td>\n",
       "      <td>...</td>\n",
       "      <td>...</td>\n",
       "    </tr>\n",
       "    <tr>\n",
       "      <th>539</th>\n",
       "      <td>1.176263</td>\n",
       "      <td>-0.623823</td>\n",
       "      <td>-0.085158</td>\n",
       "      <td>-0.099235</td>\n",
       "      <td>-0.505406</td>\n",
       "      <td>0.862784</td>\n",
       "      <td>0.394415</td>\n",
       "      <td>0.155466</td>\n",
       "      <td>-0.235341</td>\n",
       "      <td>-0.027974</td>\n",
       "      <td>-0.016367</td>\n",
       "      <td>-0.034191</td>\n",
       "      <td>0.279650</td>\n",
       "      <td>0.121179</td>\n",
       "      <td>0.194156</td>\n",
       "      <td>0.138930</td>\n",
       "      <td>0.022780</td>\n",
       "      <td>0.098638</td>\n",
       "    </tr>\n",
       "    <tr>\n",
       "      <th>358</th>\n",
       "      <td>-0.818099</td>\n",
       "      <td>-0.623823</td>\n",
       "      <td>-0.088319</td>\n",
       "      <td>0.805625</td>\n",
       "      <td>-0.440023</td>\n",
       "      <td>-0.271358</td>\n",
       "      <td>0.394415</td>\n",
       "      <td>-0.157300</td>\n",
       "      <td>0.165548</td>\n",
       "      <td>-0.027974</td>\n",
       "      <td>-0.016367</td>\n",
       "      <td>-0.028573</td>\n",
       "      <td>-0.065685</td>\n",
       "      <td>0.121179</td>\n",
       "      <td>0.194156</td>\n",
       "      <td>-0.075836</td>\n",
       "      <td>0.022780</td>\n",
       "      <td>-0.064691</td>\n",
       "    </tr>\n",
       "    <tr>\n",
       "      <th>763</th>\n",
       "      <td>1.176263</td>\n",
       "      <td>0.168017</td>\n",
       "      <td>-0.088319</td>\n",
       "      <td>0.410063</td>\n",
       "      <td>0.194992</td>\n",
       "      <td>0.862784</td>\n",
       "      <td>0.394415</td>\n",
       "      <td>0.155466</td>\n",
       "      <td>-0.441833</td>\n",
       "      <td>-0.027974</td>\n",
       "      <td>-0.016367</td>\n",
       "      <td>0.461035</td>\n",
       "      <td>-0.066386</td>\n",
       "      <td>0.121179</td>\n",
       "      <td>0.194156</td>\n",
       "      <td>-0.075836</td>\n",
       "      <td>0.097164</td>\n",
       "      <td>-0.064691</td>\n",
       "    </tr>\n",
       "    <tr>\n",
       "      <th>504</th>\n",
       "      <td>1.176263</td>\n",
       "      <td>1.181636</td>\n",
       "      <td>-0.088319</td>\n",
       "      <td>0.410063</td>\n",
       "      <td>0.194992</td>\n",
       "      <td>-0.271358</td>\n",
       "      <td>0.394415</td>\n",
       "      <td>0.155466</td>\n",
       "      <td>0.138519</td>\n",
       "      <td>-0.027974</td>\n",
       "      <td>-0.016367</td>\n",
       "      <td>0.461035</td>\n",
       "      <td>-0.065685</td>\n",
       "      <td>0.121179</td>\n",
       "      <td>-0.404445</td>\n",
       "      <td>-0.075836</td>\n",
       "      <td>0.022780</td>\n",
       "      <td>-0.064691</td>\n",
       "    </tr>\n",
       "    <tr>\n",
       "      <th>406</th>\n",
       "      <td>-0.818099</td>\n",
       "      <td>-0.623823</td>\n",
       "      <td>-0.088319</td>\n",
       "      <td>-0.099235</td>\n",
       "      <td>-0.440023</td>\n",
       "      <td>-0.271358</td>\n",
       "      <td>0.394415</td>\n",
       "      <td>-0.157300</td>\n",
       "      <td>0.165548</td>\n",
       "      <td>-0.027974</td>\n",
       "      <td>-0.016367</td>\n",
       "      <td>-0.028573</td>\n",
       "      <td>-0.065685</td>\n",
       "      <td>0.121179</td>\n",
       "      <td>0.194156</td>\n",
       "      <td>-0.075836</td>\n",
       "      <td>0.022780</td>\n",
       "      <td>-0.064691</td>\n",
       "    </tr>\n",
       "  </tbody>\n",
       "</table>\n",
       "<p>600 rows × 18 columns</p>\n",
       "</div>"
      ],
      "text/plain": [
       "     exist-check-acc-status  duration  credit-history   purpose  \\\n",
       "663                1.176263  0.454297       -0.088319 -0.099235   \n",
       "695               -0.818099 -0.195526       -0.088319 -0.099235   \n",
       "551                0.405465 -0.278767        0.733741  0.410063   \n",
       "432                1.176263  1.181636        0.733741 -0.353105   \n",
       "782                1.176263  0.168017        0.733741 -0.587787   \n",
       "..                      ...       ...             ...       ...   \n",
       "539                1.176263 -0.623823       -0.085158 -0.099235   \n",
       "358               -0.818099 -0.623823       -0.088319  0.805625   \n",
       "763                1.176263  0.168017       -0.088319  0.410063   \n",
       "504                1.176263  1.181636       -0.088319  0.410063   \n",
       "406               -0.818099 -0.623823       -0.088319 -0.099235   \n",
       "\n",
       "     credit-amount   sav-acc  employment-years  install-rate  marriage-sex  \\\n",
       "663       0.194992 -0.271358         -0.032103     -0.157300     -0.235341   \n",
       "695       0.194992 -0.271358          0.235566     -0.157300      0.165548   \n",
       "551       0.194992 -0.271358          0.235566     -0.157300      0.165548   \n",
       "432      -0.505406 -0.271358          0.394415      0.251314      0.165548   \n",
       "782       0.194992 -0.139552         -0.032103     -0.157300     -0.235341   \n",
       "..             ...       ...               ...           ...           ...   \n",
       "539      -0.505406  0.862784          0.394415      0.155466     -0.235341   \n",
       "358      -0.440023 -0.271358          0.394415     -0.157300      0.165548   \n",
       "763       0.194992  0.862784          0.394415      0.155466     -0.441833   \n",
       "504       0.194992 -0.271358          0.394415      0.155466      0.138519   \n",
       "406      -0.440023 -0.271358          0.394415     -0.157300      0.165548   \n",
       "\n",
       "     guarantor  residency-dur  property       age  other-install-plans  \\\n",
       "663  -0.027974      -0.016367  0.461035 -0.065685             0.121179   \n",
       "695  -0.027974      -0.016367 -0.028573  0.279650             0.121179   \n",
       "551  -0.027974      -0.016367 -0.028573  0.279650             0.121179   \n",
       "432  -0.027974      -0.016367 -0.586082  0.279650             0.121179   \n",
       "782  -0.027974      -0.016367 -0.034191 -0.046227             0.121179   \n",
       "..         ...            ...       ...       ...                  ...   \n",
       "539  -0.027974      -0.016367 -0.034191  0.279650             0.121179   \n",
       "358  -0.027974      -0.016367 -0.028573 -0.065685             0.121179   \n",
       "763  -0.027974      -0.016367  0.461035 -0.066386             0.121179   \n",
       "504  -0.027974      -0.016367  0.461035 -0.065685             0.121179   \n",
       "406  -0.027974      -0.016367 -0.028573 -0.065685             0.121179   \n",
       "\n",
       "      housing  existing-credits       job  phone-provided  \n",
       "663 -0.404445         -0.075836  0.022780       -0.064691  \n",
       "695 -0.404445         -0.075836 -0.189242        0.098638  \n",
       "551  0.194156         -0.075836  0.022780       -0.064691  \n",
       "432  0.194156          0.138930 -0.189242        0.098638  \n",
       "782  0.194156         -0.075836  0.022780       -0.064691  \n",
       "..        ...               ...       ...             ...  \n",
       "539  0.194156          0.138930  0.022780        0.098638  \n",
       "358  0.194156         -0.075836  0.022780       -0.064691  \n",
       "763  0.194156         -0.075836  0.097164       -0.064691  \n",
       "504 -0.404445         -0.075836  0.022780       -0.064691  \n",
       "406  0.194156         -0.075836  0.022780       -0.064691  \n",
       "\n",
       "[600 rows x 18 columns]"
      ]
     },
     "execution_count": 6,
     "metadata": {},
     "output_type": "execute_result"
    }
   ],
   "source": [
    "X_train"
   ]
  },
  {
   "cell_type": "code",
   "execution_count": 7,
   "id": "ef4767e7-30c8-46cb-82c1-1e679bf6903c",
   "metadata": {},
   "outputs": [
    {
     "data": {
      "text/html": [
       "<div>\n",
       "<style scoped>\n",
       "    .dataframe tbody tr th:only-of-type {\n",
       "        vertical-align: middle;\n",
       "    }\n",
       "\n",
       "    .dataframe tbody tr th {\n",
       "        vertical-align: top;\n",
       "    }\n",
       "\n",
       "    .dataframe thead th {\n",
       "        text-align: right;\n",
       "    }\n",
       "</style>\n",
       "<table border=\"1\" class=\"dataframe\">\n",
       "  <thead>\n",
       "    <tr style=\"text-align: right;\">\n",
       "      <th></th>\n",
       "      <th>exist-check-acc-status</th>\n",
       "      <th>duration</th>\n",
       "      <th>credit-history</th>\n",
       "      <th>purpose</th>\n",
       "      <th>credit-amount</th>\n",
       "      <th>sav-acc</th>\n",
       "      <th>employment-years</th>\n",
       "      <th>install-rate</th>\n",
       "      <th>marriage-sex</th>\n",
       "      <th>guarantor</th>\n",
       "      <th>residency-dur</th>\n",
       "      <th>property</th>\n",
       "      <th>age</th>\n",
       "      <th>other-install-plans</th>\n",
       "      <th>housing</th>\n",
       "      <th>existing-credits</th>\n",
       "      <th>job</th>\n",
       "      <th>phone-provided</th>\n",
       "    </tr>\n",
       "  </thead>\n",
       "  <tbody>\n",
       "    <tr>\n",
       "      <th>413</th>\n",
       "      <td>-0.401392</td>\n",
       "      <td>0.454297</td>\n",
       "      <td>-0.088319</td>\n",
       "      <td>-0.230524</td>\n",
       "      <td>0.194992</td>\n",
       "      <td>-0.271358</td>\n",
       "      <td>-0.032103</td>\n",
       "      <td>0.155466</td>\n",
       "      <td>0.138519</td>\n",
       "      <td>-0.027974</td>\n",
       "      <td>0.112478</td>\n",
       "      <td>0.461035</td>\n",
       "      <td>-0.065685</td>\n",
       "      <td>-0.477551</td>\n",
       "      <td>0.194156</td>\n",
       "      <td>-0.075836</td>\n",
       "      <td>0.022780</td>\n",
       "      <td>0.098638</td>\n",
       "    </tr>\n",
       "    <tr>\n",
       "      <th>96</th>\n",
       "      <td>1.176263</td>\n",
       "      <td>-0.195526</td>\n",
       "      <td>-0.088319</td>\n",
       "      <td>0.410063</td>\n",
       "      <td>0.194992</td>\n",
       "      <td>-0.271358</td>\n",
       "      <td>-0.470820</td>\n",
       "      <td>-0.157300</td>\n",
       "      <td>0.165548</td>\n",
       "      <td>-0.027974</td>\n",
       "      <td>0.112478</td>\n",
       "      <td>0.461035</td>\n",
       "      <td>-0.046227</td>\n",
       "      <td>0.121179</td>\n",
       "      <td>0.194156</td>\n",
       "      <td>-0.075836</td>\n",
       "      <td>0.022780</td>\n",
       "      <td>-0.064691</td>\n",
       "    </tr>\n",
       "    <tr>\n",
       "      <th>370</th>\n",
       "      <td>-0.818099</td>\n",
       "      <td>-0.195526</td>\n",
       "      <td>-0.088319</td>\n",
       "      <td>-0.353105</td>\n",
       "      <td>1.459626</td>\n",
       "      <td>0.704246</td>\n",
       "      <td>0.394415</td>\n",
       "      <td>0.155466</td>\n",
       "      <td>0.165548</td>\n",
       "      <td>-0.027974</td>\n",
       "      <td>-0.016367</td>\n",
       "      <td>0.461035</td>\n",
       "      <td>-0.524461</td>\n",
       "      <td>0.121179</td>\n",
       "      <td>0.194156</td>\n",
       "      <td>-0.075836</td>\n",
       "      <td>0.097164</td>\n",
       "      <td>-0.064691</td>\n",
       "    </tr>\n",
       "    <tr>\n",
       "      <th>88</th>\n",
       "      <td>-0.818099</td>\n",
       "      <td>-0.623823</td>\n",
       "      <td>-0.088319</td>\n",
       "      <td>-0.587787</td>\n",
       "      <td>-0.505406</td>\n",
       "      <td>-0.271358</td>\n",
       "      <td>-0.319230</td>\n",
       "      <td>0.155466</td>\n",
       "      <td>-0.441833</td>\n",
       "      <td>-0.027974</td>\n",
       "      <td>-0.016367</td>\n",
       "      <td>-0.034191</td>\n",
       "      <td>0.279650</td>\n",
       "      <td>0.121179</td>\n",
       "      <td>0.194156</td>\n",
       "      <td>-0.075836</td>\n",
       "      <td>-0.189242</td>\n",
       "      <td>-0.064691</td>\n",
       "    </tr>\n",
       "    <tr>\n",
       "      <th>768</th>\n",
       "      <td>1.176263</td>\n",
       "      <td>0.168017</td>\n",
       "      <td>-0.088319</td>\n",
       "      <td>0.805625</td>\n",
       "      <td>1.459626</td>\n",
       "      <td>-0.139552</td>\n",
       "      <td>-0.470820</td>\n",
       "      <td>0.251314</td>\n",
       "      <td>-0.235341</td>\n",
       "      <td>-0.027974</td>\n",
       "      <td>-0.016367</td>\n",
       "      <td>-0.034191</td>\n",
       "      <td>-0.524461</td>\n",
       "      <td>0.121179</td>\n",
       "      <td>0.194156</td>\n",
       "      <td>-0.075836</td>\n",
       "      <td>0.022780</td>\n",
       "      <td>0.098638</td>\n",
       "    </tr>\n",
       "    <tr>\n",
       "      <th>...</th>\n",
       "      <td>...</td>\n",
       "      <td>...</td>\n",
       "      <td>...</td>\n",
       "      <td>...</td>\n",
       "      <td>...</td>\n",
       "      <td>...</td>\n",
       "      <td>...</td>\n",
       "      <td>...</td>\n",
       "      <td>...</td>\n",
       "      <td>...</td>\n",
       "      <td>...</td>\n",
       "      <td>...</td>\n",
       "      <td>...</td>\n",
       "      <td>...</td>\n",
       "      <td>...</td>\n",
       "      <td>...</td>\n",
       "      <td>...</td>\n",
       "      <td>...</td>\n",
       "    </tr>\n",
       "    <tr>\n",
       "      <th>318</th>\n",
       "      <td>0.405465</td>\n",
       "      <td>0.168017</td>\n",
       "      <td>-0.088319</td>\n",
       "      <td>0.410063</td>\n",
       "      <td>0.194992</td>\n",
       "      <td>-0.271358</td>\n",
       "      <td>-0.470820</td>\n",
       "      <td>0.155466</td>\n",
       "      <td>-0.235341</td>\n",
       "      <td>-0.027974</td>\n",
       "      <td>-0.016367</td>\n",
       "      <td>0.461035</td>\n",
       "      <td>-0.524461</td>\n",
       "      <td>0.121179</td>\n",
       "      <td>0.194156</td>\n",
       "      <td>-0.075836</td>\n",
       "      <td>0.097164</td>\n",
       "      <td>-0.064691</td>\n",
       "    </tr>\n",
       "    <tr>\n",
       "      <th>562</th>\n",
       "      <td>0.405465</td>\n",
       "      <td>-0.195526</td>\n",
       "      <td>-0.088319</td>\n",
       "      <td>0.410063</td>\n",
       "      <td>-0.129812</td>\n",
       "      <td>0.862784</td>\n",
       "      <td>-0.032103</td>\n",
       "      <td>0.064539</td>\n",
       "      <td>-0.235341</td>\n",
       "      <td>-0.027974</td>\n",
       "      <td>-0.016367</td>\n",
       "      <td>-0.034191</td>\n",
       "      <td>-0.066386</td>\n",
       "      <td>0.121179</td>\n",
       "      <td>0.194156</td>\n",
       "      <td>-0.075836</td>\n",
       "      <td>0.097164</td>\n",
       "      <td>-0.064691</td>\n",
       "    </tr>\n",
       "    <tr>\n",
       "      <th>473</th>\n",
       "      <td>1.176263</td>\n",
       "      <td>0.168017</td>\n",
       "      <td>-0.088319</td>\n",
       "      <td>0.410063</td>\n",
       "      <td>-0.129812</td>\n",
       "      <td>0.862784</td>\n",
       "      <td>0.235566</td>\n",
       "      <td>-0.157300</td>\n",
       "      <td>0.165548</td>\n",
       "      <td>-0.027974</td>\n",
       "      <td>-0.016367</td>\n",
       "      <td>-0.028573</td>\n",
       "      <td>0.279650</td>\n",
       "      <td>-0.477551</td>\n",
       "      <td>0.194156</td>\n",
       "      <td>-0.075836</td>\n",
       "      <td>0.022780</td>\n",
       "      <td>0.098638</td>\n",
       "    </tr>\n",
       "    <tr>\n",
       "      <th>421</th>\n",
       "      <td>-0.401392</td>\n",
       "      <td>-0.623823</td>\n",
       "      <td>-0.088319</td>\n",
       "      <td>0.410063</td>\n",
       "      <td>0.194992</td>\n",
       "      <td>-0.271358</td>\n",
       "      <td>0.394415</td>\n",
       "      <td>-0.157300</td>\n",
       "      <td>0.165548</td>\n",
       "      <td>-0.027974</td>\n",
       "      <td>-0.016367</td>\n",
       "      <td>-0.034191</td>\n",
       "      <td>-0.524461</td>\n",
       "      <td>0.121179</td>\n",
       "      <td>-0.404445</td>\n",
       "      <td>-0.075836</td>\n",
       "      <td>0.022780</td>\n",
       "      <td>-0.064691</td>\n",
       "    </tr>\n",
       "    <tr>\n",
       "      <th>419</th>\n",
       "      <td>1.176263</td>\n",
       "      <td>0.168017</td>\n",
       "      <td>-0.088319</td>\n",
       "      <td>0.805625</td>\n",
       "      <td>-0.440023</td>\n",
       "      <td>-0.271358</td>\n",
       "      <td>-0.032103</td>\n",
       "      <td>0.064539</td>\n",
       "      <td>0.165548</td>\n",
       "      <td>-0.027974</td>\n",
       "      <td>-0.016367</td>\n",
       "      <td>-0.034191</td>\n",
       "      <td>-0.046227</td>\n",
       "      <td>0.121179</td>\n",
       "      <td>0.194156</td>\n",
       "      <td>-0.075836</td>\n",
       "      <td>0.022780</td>\n",
       "      <td>0.098638</td>\n",
       "    </tr>\n",
       "  </tbody>\n",
       "</table>\n",
       "<p>200 rows × 18 columns</p>\n",
       "</div>"
      ],
      "text/plain": [
       "     exist-check-acc-status  duration  credit-history   purpose  \\\n",
       "413               -0.401392  0.454297       -0.088319 -0.230524   \n",
       "96                 1.176263 -0.195526       -0.088319  0.410063   \n",
       "370               -0.818099 -0.195526       -0.088319 -0.353105   \n",
       "88                -0.818099 -0.623823       -0.088319 -0.587787   \n",
       "768                1.176263  0.168017       -0.088319  0.805625   \n",
       "..                      ...       ...             ...       ...   \n",
       "318                0.405465  0.168017       -0.088319  0.410063   \n",
       "562                0.405465 -0.195526       -0.088319  0.410063   \n",
       "473                1.176263  0.168017       -0.088319  0.410063   \n",
       "421               -0.401392 -0.623823       -0.088319  0.410063   \n",
       "419                1.176263  0.168017       -0.088319  0.805625   \n",
       "\n",
       "     credit-amount   sav-acc  employment-years  install-rate  marriage-sex  \\\n",
       "413       0.194992 -0.271358         -0.032103      0.155466      0.138519   \n",
       "96        0.194992 -0.271358         -0.470820     -0.157300      0.165548   \n",
       "370       1.459626  0.704246          0.394415      0.155466      0.165548   \n",
       "88       -0.505406 -0.271358         -0.319230      0.155466     -0.441833   \n",
       "768       1.459626 -0.139552         -0.470820      0.251314     -0.235341   \n",
       "..             ...       ...               ...           ...           ...   \n",
       "318       0.194992 -0.271358         -0.470820      0.155466     -0.235341   \n",
       "562      -0.129812  0.862784         -0.032103      0.064539     -0.235341   \n",
       "473      -0.129812  0.862784          0.235566     -0.157300      0.165548   \n",
       "421       0.194992 -0.271358          0.394415     -0.157300      0.165548   \n",
       "419      -0.440023 -0.271358         -0.032103      0.064539      0.165548   \n",
       "\n",
       "     guarantor  residency-dur  property       age  other-install-plans  \\\n",
       "413  -0.027974       0.112478  0.461035 -0.065685            -0.477551   \n",
       "96   -0.027974       0.112478  0.461035 -0.046227             0.121179   \n",
       "370  -0.027974      -0.016367  0.461035 -0.524461             0.121179   \n",
       "88   -0.027974      -0.016367 -0.034191  0.279650             0.121179   \n",
       "768  -0.027974      -0.016367 -0.034191 -0.524461             0.121179   \n",
       "..         ...            ...       ...       ...                  ...   \n",
       "318  -0.027974      -0.016367  0.461035 -0.524461             0.121179   \n",
       "562  -0.027974      -0.016367 -0.034191 -0.066386             0.121179   \n",
       "473  -0.027974      -0.016367 -0.028573  0.279650            -0.477551   \n",
       "421  -0.027974      -0.016367 -0.034191 -0.524461             0.121179   \n",
       "419  -0.027974      -0.016367 -0.034191 -0.046227             0.121179   \n",
       "\n",
       "      housing  existing-credits       job  phone-provided  \n",
       "413  0.194156         -0.075836  0.022780        0.098638  \n",
       "96   0.194156         -0.075836  0.022780       -0.064691  \n",
       "370  0.194156         -0.075836  0.097164       -0.064691  \n",
       "88   0.194156         -0.075836 -0.189242       -0.064691  \n",
       "768  0.194156         -0.075836  0.022780        0.098638  \n",
       "..        ...               ...       ...             ...  \n",
       "318  0.194156         -0.075836  0.097164       -0.064691  \n",
       "562  0.194156         -0.075836  0.097164       -0.064691  \n",
       "473  0.194156         -0.075836  0.022780        0.098638  \n",
       "421 -0.404445         -0.075836  0.022780       -0.064691  \n",
       "419  0.194156         -0.075836  0.022780        0.098638  \n",
       "\n",
       "[200 rows x 18 columns]"
      ]
     },
     "execution_count": 7,
     "metadata": {},
     "output_type": "execute_result"
    }
   ],
   "source": [
    "X_test"
   ]
  },
  {
   "cell_type": "code",
   "execution_count": 8,
   "id": "bae2a169-bb00-4ea5-8809-5c5f6c64ce4f",
   "metadata": {},
   "outputs": [
    {
     "data": {
      "text/plain": [
       "array([False,  True, False, False, False,  True, False, False, False,\n",
       "       False, False, False,  True, False, False,  True, False, False,\n",
       "        True,  True, False, False, False,  True, False, False, False,\n",
       "       False,  True,  True, False, False, False,  True, False,  True,\n",
       "        True, False, False, False,  True, False, False, False,  True,\n",
       "       False, False, False, False,  True, False, False,  True, False,\n",
       "       False, False,  True, False, False, False,  True, False, False,\n",
       "       False, False, False,  True, False, False, False, False, False,\n",
       "       False,  True, False, False, False, False, False, False,  True,\n",
       "        True,  True, False, False, False, False, False, False, False,\n",
       "       False, False,  True, False,  True, False, False, False, False,\n",
       "       False, False, False, False, False, False, False,  True, False,\n",
       "       False, False, False,  True,  True,  True, False,  True, False,\n",
       "       False, False, False, False, False, False, False,  True,  True,\n",
       "        True, False, False,  True, False, False,  True,  True, False,\n",
       "       False, False, False, False, False,  True, False, False,  True,\n",
       "       False, False,  True, False,  True, False, False,  True, False,\n",
       "       False, False, False, False, False, False, False, False,  True,\n",
       "       False, False,  True,  True, False,  True,  True, False, False,\n",
       "       False, False, False,  True, False, False, False,  True, False,\n",
       "        True, False,  True, False, False, False, False, False, False,\n",
       "       False, False, False, False, False,  True,  True, False, False,\n",
       "       False, False,  True, False, False, False,  True, False,  True,\n",
       "        True,  True, False, False, False,  True,  True, False, False,\n",
       "       False,  True, False, False, False, False, False, False, False,\n",
       "        True, False, False,  True,  True, False, False,  True,  True,\n",
       "       False, False, False, False, False,  True, False, False, False,\n",
       "       False, False,  True,  True,  True, False,  True, False, False,\n",
       "        True, False, False,  True,  True, False, False, False, False,\n",
       "       False, False, False, False, False,  True, False,  True,  True,\n",
       "        True, False,  True, False,  True,  True, False,  True,  True,\n",
       "        True,  True, False,  True,  True,  True,  True,  True,  True,\n",
       "        True,  True,  True, False, False,  True,  True,  True, False,\n",
       "       False, False,  True,  True,  True,  True, False,  True,  True,\n",
       "       False, False,  True, False, False, False, False, False, False,\n",
       "       False, False, False,  True, False, False, False, False,  True,\n",
       "        True, False, False, False, False,  True,  True, False, False,\n",
       "       False, False, False, False, False, False, False,  True,  True,\n",
       "       False, False, False,  True,  True, False, False, False, False,\n",
       "        True, False,  True, False,  True,  True,  True, False,  True,\n",
       "       False, False, False, False, False, False, False, False,  True,\n",
       "       False, False, False, False, False, False,  True, False, False,\n",
       "        True,  True,  True, False, False, False, False, False,  True,\n",
       "       False, False, False,  True, False, False, False, False, False,\n",
       "       False, False, False, False,  True,  True, False, False, False,\n",
       "       False, False, False, False, False,  True,  True,  True, False,\n",
       "       False, False, False, False,  True, False,  True,  True, False,\n",
       "       False, False,  True,  True, False, False, False, False, False,\n",
       "       False,  True, False,  True, False,  True,  True,  True, False,\n",
       "       False, False,  True, False, False, False, False,  True, False,\n",
       "       False, False, False, False,  True, False, False, False,  True,\n",
       "       False,  True,  True, False, False, False,  True, False, False,\n",
       "       False, False, False, False, False, False, False,  True, False,\n",
       "        True,  True, False, False, False, False, False, False, False,\n",
       "       False, False, False, False,  True, False, False, False,  True,\n",
       "       False, False,  True,  True, False, False, False, False, False,\n",
       "       False, False, False, False, False, False, False, False, False,\n",
       "       False,  True, False,  True, False,  True, False, False,  True,\n",
       "       False,  True, False, False, False, False,  True, False,  True,\n",
       "       False,  True,  True, False, False, False, False,  True,  True,\n",
       "       False,  True, False, False,  True, False,  True, False,  True,\n",
       "       False,  True, False, False,  True, False, False, False,  True,\n",
       "       False, False,  True,  True, False, False, False, False,  True,\n",
       "       False, False, False, False, False,  True, False, False,  True,\n",
       "       False, False, False,  True,  True, False,  True, False, False,\n",
       "        True, False, False,  True,  True, False, False,  True, False,\n",
       "        True, False, False, False, False,  True])"
      ]
     },
     "execution_count": 8,
     "metadata": {},
     "output_type": "execute_result"
    }
   ],
   "source": [
    "y_train"
   ]
  },
  {
   "cell_type": "code",
   "execution_count": 9,
   "id": "e87db733-44e8-439c-a3fa-ec72cec789e6",
   "metadata": {},
   "outputs": [
    {
     "data": {
      "text/plain": [
       "array([False, False, False, False, False, False, False, False, False,\n",
       "       False,  True,  True, False, False, False, False, False, False,\n",
       "        True, False, False, False, False, False, False, False,  True,\n",
       "       False,  True,  True, False,  True, False,  True,  True, False,\n",
       "       False, False, False,  True, False, False,  True, False,  True,\n",
       "       False, False, False,  True, False, False, False, False,  True,\n",
       "       False, False,  True, False, False, False, False, False, False,\n",
       "       False,  True, False, False,  True, False,  True, False, False,\n",
       "        True, False,  True,  True,  True,  True, False, False, False,\n",
       "       False,  True, False, False, False,  True, False, False,  True,\n",
       "       False, False,  True, False, False, False, False, False,  True,\n",
       "       False,  True,  True, False, False,  True, False, False,  True,\n",
       "       False, False,  True,  True, False, False, False, False,  True,\n",
       "       False, False, False, False,  True,  True, False, False, False,\n",
       "       False, False, False, False,  True, False, False,  True,  True,\n",
       "       False,  True,  True, False, False, False,  True,  True, False,\n",
       "       False, False, False,  True, False, False, False,  True, False,\n",
       "       False, False, False, False,  True, False,  True, False, False,\n",
       "       False, False, False, False, False,  True, False, False,  True,\n",
       "       False, False, False,  True, False, False, False, False, False,\n",
       "       False, False, False, False,  True, False, False, False, False,\n",
       "       False,  True, False, False, False, False,  True, False, False,\n",
       "       False, False])"
      ]
     },
     "execution_count": 9,
     "metadata": {},
     "output_type": "execute_result"
    }
   ],
   "source": [
    "y_test"
   ]
  },
  {
   "cell_type": "code",
   "execution_count": 10,
   "id": "302cae8b-2f51-4e45-a11f-55e1c45637a2",
   "metadata": {},
   "outputs": [
    {
     "data": {
      "text/html": [
       "<style>#sk-container-id-1 {color: black;background-color: white;}#sk-container-id-1 pre{padding: 0;}#sk-container-id-1 div.sk-toggleable {background-color: white;}#sk-container-id-1 label.sk-toggleable__label {cursor: pointer;display: block;width: 100%;margin-bottom: 0;padding: 0.3em;box-sizing: border-box;text-align: center;}#sk-container-id-1 label.sk-toggleable__label-arrow:before {content: \"▸\";float: left;margin-right: 0.25em;color: #696969;}#sk-container-id-1 label.sk-toggleable__label-arrow:hover:before {color: black;}#sk-container-id-1 div.sk-estimator:hover label.sk-toggleable__label-arrow:before {color: black;}#sk-container-id-1 div.sk-toggleable__content {max-height: 0;max-width: 0;overflow: hidden;text-align: left;background-color: #f0f8ff;}#sk-container-id-1 div.sk-toggleable__content pre {margin: 0.2em;color: black;border-radius: 0.25em;background-color: #f0f8ff;}#sk-container-id-1 input.sk-toggleable__control:checked~div.sk-toggleable__content {max-height: 200px;max-width: 100%;overflow: auto;}#sk-container-id-1 input.sk-toggleable__control:checked~label.sk-toggleable__label-arrow:before {content: \"▾\";}#sk-container-id-1 div.sk-estimator input.sk-toggleable__control:checked~label.sk-toggleable__label {background-color: #d4ebff;}#sk-container-id-1 div.sk-label input.sk-toggleable__control:checked~label.sk-toggleable__label {background-color: #d4ebff;}#sk-container-id-1 input.sk-hidden--visually {border: 0;clip: rect(1px 1px 1px 1px);clip: rect(1px, 1px, 1px, 1px);height: 1px;margin: -1px;overflow: hidden;padding: 0;position: absolute;width: 1px;}#sk-container-id-1 div.sk-estimator {font-family: monospace;background-color: #f0f8ff;border: 1px dotted black;border-radius: 0.25em;box-sizing: border-box;margin-bottom: 0.5em;}#sk-container-id-1 div.sk-estimator:hover {background-color: #d4ebff;}#sk-container-id-1 div.sk-parallel-item::after {content: \"\";width: 100%;border-bottom: 1px solid gray;flex-grow: 1;}#sk-container-id-1 div.sk-label:hover label.sk-toggleable__label {background-color: #d4ebff;}#sk-container-id-1 div.sk-serial::before {content: \"\";position: absolute;border-left: 1px solid gray;box-sizing: border-box;top: 0;bottom: 0;left: 50%;z-index: 0;}#sk-container-id-1 div.sk-serial {display: flex;flex-direction: column;align-items: center;background-color: white;padding-right: 0.2em;padding-left: 0.2em;position: relative;}#sk-container-id-1 div.sk-item {position: relative;z-index: 1;}#sk-container-id-1 div.sk-parallel {display: flex;align-items: stretch;justify-content: center;background-color: white;position: relative;}#sk-container-id-1 div.sk-item::before, #sk-container-id-1 div.sk-parallel-item::before {content: \"\";position: absolute;border-left: 1px solid gray;box-sizing: border-box;top: 0;bottom: 0;left: 50%;z-index: -1;}#sk-container-id-1 div.sk-parallel-item {display: flex;flex-direction: column;z-index: 1;position: relative;background-color: white;}#sk-container-id-1 div.sk-parallel-item:first-child::after {align-self: flex-end;width: 50%;}#sk-container-id-1 div.sk-parallel-item:last-child::after {align-self: flex-start;width: 50%;}#sk-container-id-1 div.sk-parallel-item:only-child::after {width: 0;}#sk-container-id-1 div.sk-dashed-wrapped {border: 1px dashed gray;margin: 0 0.4em 0.5em 0.4em;box-sizing: border-box;padding-bottom: 0.4em;background-color: white;}#sk-container-id-1 div.sk-label label {font-family: monospace;font-weight: bold;display: inline-block;line-height: 1.2em;}#sk-container-id-1 div.sk-label-container {text-align: center;}#sk-container-id-1 div.sk-container {/* jupyter's `normalize.less` sets `[hidden] { display: none; }` but bootstrap.min.css set `[hidden] { display: none !important; }` so we also need the `!important` here to be able to override the default hidden behavior on the sphinx rendered scikit-learn.org. See: https://github.com/scikit-learn/scikit-learn/issues/21755 */display: inline-block !important;position: relative;}#sk-container-id-1 div.sk-text-repr-fallback {display: none;}</style><div id=\"sk-container-id-1\" class=\"sk-top-container\"><div class=\"sk-text-repr-fallback\"><pre>LogisticRegression()</pre><b>In a Jupyter environment, please rerun this cell to show the HTML representation or trust the notebook. <br />On GitHub, the HTML representation is unable to render, please try loading this page with nbviewer.org.</b></div><div class=\"sk-container\" hidden><div class=\"sk-item\"><div class=\"sk-estimator sk-toggleable\"><input class=\"sk-toggleable__control sk-hidden--visually\" id=\"sk-estimator-id-1\" type=\"checkbox\" checked><label for=\"sk-estimator-id-1\" class=\"sk-toggleable__label sk-toggleable__label-arrow\">LogisticRegression</label><div class=\"sk-toggleable__content\"><pre>LogisticRegression()</pre></div></div></div></div></div>"
      ],
      "text/plain": [
       "LogisticRegression()"
      ]
     },
     "execution_count": 10,
     "metadata": {},
     "output_type": "execute_result"
    }
   ],
   "source": [
    "model = LogisticRegression()\n",
    "model.fit(X_train, y_train)"
   ]
  },
  {
   "cell_type": "code",
   "execution_count": 11,
   "id": "86f2e9e1-c21f-457a-8ef3-ab5f9f7a2e6f",
   "metadata": {},
   "outputs": [
    {
     "data": {
      "text/plain": [
       "0      False\n",
       "1      False\n",
       "2      False\n",
       "3       True\n",
       "4      False\n",
       "       ...  \n",
       "195    False\n",
       "196    False\n",
       "197    False\n",
       "198    False\n",
       "199    False\n",
       "Length: 200, dtype: bool"
      ]
     },
     "execution_count": 11,
     "metadata": {},
     "output_type": "execute_result"
    }
   ],
   "source": [
    "y_pred = pd.Series(model.predict(X_test))\n",
    "y_pred"
   ]
  },
  {
   "cell_type": "code",
   "execution_count": 12,
   "id": "16ab1919-e6d9-485f-9f34-5fc1e36120b0",
   "metadata": {},
   "outputs": [
    {
     "data": {
      "text/html": [
       "<div>\n",
       "<style scoped>\n",
       "    .dataframe tbody tr th:only-of-type {\n",
       "        vertical-align: middle;\n",
       "    }\n",
       "\n",
       "    .dataframe tbody tr th {\n",
       "        vertical-align: top;\n",
       "    }\n",
       "\n",
       "    .dataframe thead th {\n",
       "        text-align: right;\n",
       "    }\n",
       "</style>\n",
       "<table border=\"1\" class=\"dataframe\">\n",
       "  <thead>\n",
       "    <tr style=\"text-align: right;\">\n",
       "      <th></th>\n",
       "      <th>True</th>\n",
       "      <th>Prediction</th>\n",
       "    </tr>\n",
       "  </thead>\n",
       "  <tbody>\n",
       "    <tr>\n",
       "      <th>0</th>\n",
       "      <td>False</td>\n",
       "      <td>False</td>\n",
       "    </tr>\n",
       "    <tr>\n",
       "      <th>1</th>\n",
       "      <td>False</td>\n",
       "      <td>False</td>\n",
       "    </tr>\n",
       "    <tr>\n",
       "      <th>2</th>\n",
       "      <td>False</td>\n",
       "      <td>False</td>\n",
       "    </tr>\n",
       "    <tr>\n",
       "      <th>3</th>\n",
       "      <td>False</td>\n",
       "      <td>True</td>\n",
       "    </tr>\n",
       "    <tr>\n",
       "      <th>4</th>\n",
       "      <td>False</td>\n",
       "      <td>False</td>\n",
       "    </tr>\n",
       "    <tr>\n",
       "      <th>...</th>\n",
       "      <td>...</td>\n",
       "      <td>...</td>\n",
       "    </tr>\n",
       "    <tr>\n",
       "      <th>195</th>\n",
       "      <td>True</td>\n",
       "      <td>False</td>\n",
       "    </tr>\n",
       "    <tr>\n",
       "      <th>196</th>\n",
       "      <td>False</td>\n",
       "      <td>False</td>\n",
       "    </tr>\n",
       "    <tr>\n",
       "      <th>197</th>\n",
       "      <td>False</td>\n",
       "      <td>False</td>\n",
       "    </tr>\n",
       "    <tr>\n",
       "      <th>198</th>\n",
       "      <td>False</td>\n",
       "      <td>False</td>\n",
       "    </tr>\n",
       "    <tr>\n",
       "      <th>199</th>\n",
       "      <td>False</td>\n",
       "      <td>False</td>\n",
       "    </tr>\n",
       "  </tbody>\n",
       "</table>\n",
       "<p>200 rows × 2 columns</p>\n",
       "</div>"
      ],
      "text/plain": [
       "      True  Prediction\n",
       "0    False       False\n",
       "1    False       False\n",
       "2    False       False\n",
       "3    False        True\n",
       "4    False       False\n",
       "..     ...         ...\n",
       "195   True       False\n",
       "196  False       False\n",
       "197  False       False\n",
       "198  False       False\n",
       "199  False       False\n",
       "\n",
       "[200 rows x 2 columns]"
      ]
     },
     "execution_count": 12,
     "metadata": {},
     "output_type": "execute_result"
    }
   ],
   "source": [
    "z = pd.concat([pd.Series(y_test), y_pred], axis=1)\n",
    "z.columns = ['True', 'Prediction']\n",
    "z"
   ]
  },
  {
   "cell_type": "code",
   "execution_count": 13,
   "id": "93fb8e2a-662a-4a38-9c5f-ecdc32f39794",
   "metadata": {},
   "outputs": [
    {
     "name": "stdout",
     "output_type": "stream",
     "text": [
      "Accuracy: 0.785\n",
      "Precision: 0.7037037037037037\n",
      "Recall: 0.35185185185185186\n"
     ]
    }
   ],
   "source": [
    "print(\"Accuracy:\", metrics.accuracy_score(y_test, y_pred))\n",
    "print(\"Precision:\", metrics.precision_score(y_test, y_pred))\n",
    "print(\"Recall:\", metrics.recall_score(y_test, y_pred))"
   ]
  },
  {
   "cell_type": "code",
   "execution_count": 14,
   "id": "7b0bc2eb-6f29-4b43-9054-59a72cc955ca",
   "metadata": {},
   "outputs": [
    {
     "data": {
      "text/plain": [
       "Text(0.5, 23.52222222222222, 'Predicted')"
      ]
     },
     "execution_count": 14,
     "metadata": {},
     "output_type": "execute_result"
    },
    {
     "data": {
      "image/png": "[encoded data removed]",
      "text/plain": [
       "<Figure size 640x480 with 2 Axes>"
      ]
     },
     "metadata": {},
     "output_type": "display_data"
    }
   ],
   "source": [
    "cnf_matrix = metrics.confusion_matrix(y_test, y_pred)\n",
    "\n",
    "labels = [0, 1]\n",
    "fig, ax = plt.subplots()\n",
    "tick_marks = np.arange(len(labels))\n",
    "plt.xticks(tick_marks, labels)\n",
    "plt.yticks(tick_marks, labels)\n",
    "# create heatmap\n",
    "sns.heatmap(pd.DataFrame(cnf_matrix), annot=True, cmap=\"YlGnBu\", fmt='g')\n",
    "ax.xaxis.set_label_position(\"top\")\n",
    "plt.title('Confusion matrix', y=1.1)\n",
    "plt.ylabel('True')\n",
    "plt.xlabel('Predicted')"
   ]
  },
  {
   "cell_type": "code",
   "execution_count": 15,
   "id": "f1bcd58f-b31c-462c-89c2-28d7c7045026",
   "metadata": {},
   "outputs": [
    {
     "data": {
      "text/plain": [
       "array([False,  True])"
      ]
     },
     "execution_count": 15,
     "metadata": {},
     "output_type": "execute_result"
    }
   ],
   "source": [
    "model.classes_"
   ]
  },
  {
   "cell_type": "code",
   "execution_count": 16,
   "id": "a9362450-4edd-48ef-b56b-74db0ed3947f",
   "metadata": {},
   "outputs": [
    {
     "data": {
      "text/plain": [
       "array([[-0.90465897, -0.88481545, -0.49117536, -0.90814468, -0.99023796,\n",
       "        -0.75347023, -0.48158165, -0.8276065 , -0.67325633, -1.05106419,\n",
       "        -0.52256808, -0.66683807, -0.60386419, -0.65987386, -0.27325399,\n",
       "        -0.10511324,  0.86061225, -0.70679591]])"
      ]
     },
     "execution_count": 16,
     "metadata": {},
     "output_type": "execute_result"
    }
   ],
   "source": [
    "model.coef_"
   ]
  },
  {
   "cell_type": "code",
   "execution_count": 17,
   "id": "dd32fe75-75e8-48e0-a7a5-555248e24c10",
   "metadata": {},
   "outputs": [
    {
     "data": {
      "text/plain": [
       "array([-0.94237817])"
      ]
     },
     "execution_count": 17,
     "metadata": {},
     "output_type": "execute_result"
    }
   ],
   "source": [
    "model.intercept_"
   ]
  },
  {
   "cell_type": "code",
   "execution_count": 20,
   "id": "d0ca9d3c-effd-4e0e-8e64-e3121c834c4e",
   "metadata": {},
   "outputs": [
    {
     "data": {
      "text/plain": [
       "array([-0.40139178,  0.45429708, -0.08831862, -0.23052366,  0.19499179,\n",
       "       -0.27135784, -0.03210325,  0.15546647,  0.13851893, -0.02797385,\n",
       "        0.11247798,  0.46103496, -0.06568479, -0.47755083,  0.19415601,\n",
       "       -0.07583581,  0.02278003,  0.09863759])"
      ]
     },
     "execution_count": 20,
     "metadata": {},
     "output_type": "execute_result"
    }
   ],
   "source": [
    "X_test.loc[413].values"
   ]
  },
  {
   "cell_type": "code",
   "execution_count": 21,
   "id": "5e98ee91-0eae-4d31-99e2-adbacc1b9583",
   "metadata": {},
   "outputs": [
    {
     "data": {
      "text/plain": [
       "array([False])"
      ]
     },
     "execution_count": 21,
     "metadata": {},
     "output_type": "execute_result"
    }
   ],
   "source": [
    "model.predict([X_test.loc[413].values])"
   ]
  },
  {
   "cell_type": "code",
   "execution_count": 22,
   "id": "a13dc2cf-67ad-439d-8c97-2e205d6660e3",
   "metadata": {},
   "outputs": [
    {
     "data": {
      "text/plain": [
       "False"
      ]
     },
     "execution_count": 22,
     "metadata": {},
     "output_type": "execute_result"
    }
   ],
   "source": [
    "y_test[0]"
   ]
  },
  {
   "cell_type": "code",
   "execution_count": 24,
   "id": "d0aad73b-09cd-4824-ba38-7cd413edb3df",
   "metadata": {},
   "outputs": [
    {
     "data": {
      "text/plain": [
       "array([ True])"
      ]
     },
     "execution_count": 24,
     "metadata": {},
     "output_type": "execute_result"
    }
   ],
   "source": [
    "model.predict([X_test.loc[88].values])"
   ]
  },
  {
   "cell_type": "code",
   "execution_count": 25,
   "id": "64fa71ca-a01d-48f6-96fc-b71be207117a",
   "metadata": {},
   "outputs": [
    {
     "data": {
      "text/plain": [
       "False"
      ]
     },
     "execution_count": 25,
     "metadata": {},
     "output_type": "execute_result"
    }
   ],
   "source": [
    "y_test[3]"
   ]
  },
  {
   "cell_type": "code",
   "execution_count": 26,
   "id": "b5baf702-e9de-4e32-93d1-b9f3bb42933e",
   "metadata": {},
   "outputs": [
    {
     "data": {
      "text/plain": [
       "array([[ 0.36312268, -0.40196907,  0.04337993,  0.20934884, -0.19308827,\n",
       "         0.20446006,  0.01546033, -0.12866506, -0.09325875,  0.02940231,\n",
       "        -0.0587774 , -0.30743566,  0.0396647 ,  0.31512331, -0.0530539 ,\n",
       "         0.00797135,  0.01960477, -0.06971664]])"
      ]
     },
     "execution_count": 26,
     "metadata": {},
     "output_type": "execute_result"
    }
   ],
   "source": [
    "model.coef_ * X_test.loc[413].values"
   ]
  },
  {
   "cell_type": "code",
   "execution_count": 27,
   "id": "04be989e-27c6-465d-a091-bef4c274d14b",
   "metadata": {},
   "outputs": [
    {
     "data": {
      "text/plain": [
       "-1.0008046683005165"
      ]
     },
     "execution_count": 27,
     "metadata": {},
     "output_type": "execute_result"
    }
   ],
   "source": [
    "model.intercept_[0] + np.dot(model.coef_, X_test.loc[413].values)[0]"
   ]
  },
  {
   "cell_type": "code",
   "execution_count": 28,
   "id": "7a60a5a8-5050-4333-9435-4aacbe1465c4",
   "metadata": {},
   "outputs": [
    {
     "data": {
      "text/plain": [
       "0.2687832433976681"
      ]
     },
     "execution_count": 28,
     "metadata": {},
     "output_type": "execute_result"
    }
   ],
   "source": [
    "1/(1+np.exp(-(-1.0008046683005165)))"
   ]
  },
  {
   "cell_type": "code",
   "execution_count": 29,
   "id": "8ba940ea-fc85-4ed6-8132-9933658b3e33",
   "metadata": {},
   "outputs": [
    {
     "data": {
      "text/html": [
       "<div>\n",
       "<style scoped>\n",
       "    .dataframe tbody tr th:only-of-type {\n",
       "        vertical-align: middle;\n",
       "    }\n",
       "\n",
       "    .dataframe tbody tr th {\n",
       "        vertical-align: top;\n",
       "    }\n",
       "\n",
       "    .dataframe thead th {\n",
       "        text-align: right;\n",
       "    }\n",
       "</style>\n",
       "<table border=\"1\" class=\"dataframe\">\n",
       "  <thead>\n",
       "    <tr style=\"text-align: right;\">\n",
       "      <th></th>\n",
       "      <th>True</th>\n",
       "      <th>Prediction</th>\n",
       "    </tr>\n",
       "  </thead>\n",
       "  <tbody>\n",
       "    <tr>\n",
       "      <th>3</th>\n",
       "      <td>False</td>\n",
       "      <td>True</td>\n",
       "    </tr>\n",
       "    <tr>\n",
       "      <th>10</th>\n",
       "      <td>True</td>\n",
       "      <td>True</td>\n",
       "    </tr>\n",
       "    <tr>\n",
       "      <th>11</th>\n",
       "      <td>True</td>\n",
       "      <td>True</td>\n",
       "    </tr>\n",
       "    <tr>\n",
       "      <th>16</th>\n",
       "      <td>False</td>\n",
       "      <td>True</td>\n",
       "    </tr>\n",
       "    <tr>\n",
       "      <th>17</th>\n",
       "      <td>False</td>\n",
       "      <td>True</td>\n",
       "    </tr>\n",
       "    <tr>\n",
       "      <th>28</th>\n",
       "      <td>True</td>\n",
       "      <td>True</td>\n",
       "    </tr>\n",
       "    <tr>\n",
       "      <th>56</th>\n",
       "      <td>True</td>\n",
       "      <td>True</td>\n",
       "    </tr>\n",
       "    <tr>\n",
       "      <th>64</th>\n",
       "      <td>True</td>\n",
       "      <td>True</td>\n",
       "    </tr>\n",
       "    <tr>\n",
       "      <th>67</th>\n",
       "      <td>True</td>\n",
       "      <td>True</td>\n",
       "    </tr>\n",
       "    <tr>\n",
       "      <th>75</th>\n",
       "      <td>True</td>\n",
       "      <td>True</td>\n",
       "    </tr>\n",
       "    <tr>\n",
       "      <th>85</th>\n",
       "      <td>False</td>\n",
       "      <td>True</td>\n",
       "    </tr>\n",
       "    <tr>\n",
       "      <th>86</th>\n",
       "      <td>True</td>\n",
       "      <td>True</td>\n",
       "    </tr>\n",
       "    <tr>\n",
       "      <th>94</th>\n",
       "      <td>False</td>\n",
       "      <td>True</td>\n",
       "    </tr>\n",
       "    <tr>\n",
       "      <th>98</th>\n",
       "      <td>True</td>\n",
       "      <td>True</td>\n",
       "    </tr>\n",
       "    <tr>\n",
       "      <th>100</th>\n",
       "      <td>True</td>\n",
       "      <td>True</td>\n",
       "    </tr>\n",
       "    <tr>\n",
       "      <th>101</th>\n",
       "      <td>True</td>\n",
       "      <td>True</td>\n",
       "    </tr>\n",
       "    <tr>\n",
       "      <th>104</th>\n",
       "      <td>True</td>\n",
       "      <td>True</td>\n",
       "    </tr>\n",
       "    <tr>\n",
       "      <th>105</th>\n",
       "      <td>False</td>\n",
       "      <td>True</td>\n",
       "    </tr>\n",
       "    <tr>\n",
       "      <th>116</th>\n",
       "      <td>True</td>\n",
       "      <td>True</td>\n",
       "    </tr>\n",
       "    <tr>\n",
       "      <th>125</th>\n",
       "      <td>False</td>\n",
       "      <td>True</td>\n",
       "    </tr>\n",
       "    <tr>\n",
       "      <th>127</th>\n",
       "      <td>False</td>\n",
       "      <td>True</td>\n",
       "    </tr>\n",
       "    <tr>\n",
       "      <th>130</th>\n",
       "      <td>True</td>\n",
       "      <td>True</td>\n",
       "    </tr>\n",
       "    <tr>\n",
       "      <th>133</th>\n",
       "      <td>True</td>\n",
       "      <td>True</td>\n",
       "    </tr>\n",
       "    <tr>\n",
       "      <th>136</th>\n",
       "      <td>True</td>\n",
       "      <td>True</td>\n",
       "    </tr>\n",
       "    <tr>\n",
       "      <th>147</th>\n",
       "      <td>True</td>\n",
       "      <td>True</td>\n",
       "    </tr>\n",
       "    <tr>\n",
       "      <th>157</th>\n",
       "      <td>True</td>\n",
       "      <td>True</td>\n",
       "    </tr>\n",
       "    <tr>\n",
       "      <th>174</th>\n",
       "      <td>True</td>\n",
       "      <td>True</td>\n",
       "    </tr>\n",
       "  </tbody>\n",
       "</table>\n",
       "</div>"
      ],
      "text/plain": [
       "      True  Prediction\n",
       "3    False        True\n",
       "10    True        True\n",
       "11    True        True\n",
       "16   False        True\n",
       "17   False        True\n",
       "28    True        True\n",
       "56    True        True\n",
       "64    True        True\n",
       "67    True        True\n",
       "75    True        True\n",
       "85   False        True\n",
       "86    True        True\n",
       "94   False        True\n",
       "98    True        True\n",
       "100   True        True\n",
       "101   True        True\n",
       "104   True        True\n",
       "105  False        True\n",
       "116   True        True\n",
       "125  False        True\n",
       "127  False        True\n",
       "130   True        True\n",
       "133   True        True\n",
       "136   True        True\n",
       "147   True        True\n",
       "157   True        True\n",
       "174   True        True"
      ]
     },
     "execution_count": 29,
     "metadata": {},
     "output_type": "execute_result"
    }
   ],
   "source": [
    "z[z['Prediction'] == True]"
   ]
  },
  {
   "cell_type": "code",
   "execution_count": 30,
   "id": "a4a5d712-47f2-4f85-a545-af49f8f7d228",
   "metadata": {},
   "outputs": [
    {
     "data": {
      "text/plain": [
       "Index([413,  96, 370,  88, 768, 738, 134, 256, 405, 733,\n",
       "       ...\n",
       "       375, 159, 141, 212, 240, 318, 562, 473, 421, 419],\n",
       "      dtype='int64', length=200)"
      ]
     },
     "execution_count": 30,
     "metadata": {},
     "output_type": "execute_result"
    }
   ],
   "source": [
    "X_test.index"
   ]
  },
  {
   "cell_type": "code",
   "execution_count": 31,
   "id": "abbd15dd-a8e1-4f4c-8b67-b292fb186ece",
   "metadata": {},
   "outputs": [
    {
     "data": {
      "text/plain": [
       "array([ True])"
      ]
     },
     "execution_count": 31,
     "metadata": {},
     "output_type": "execute_result"
    }
   ],
   "source": [
    "model.predict([X_test.loc[88].values])"
   ]
  },
  {
   "cell_type": "code",
   "execution_count": 32,
   "id": "c7de3753-1452-4160-af28-72bbdd2933e7",
   "metadata": {},
   "outputs": [
    {
     "data": {
      "text/plain": [
       "False"
      ]
     },
     "execution_count": 32,
     "metadata": {},
     "output_type": "execute_result"
    }
   ],
   "source": [
    "y_test[3]"
   ]
  },
  {
   "cell_type": "code",
   "execution_count": 33,
   "id": "c535b414-4460-4c6b-acac-5308b1b88d2b",
   "metadata": {},
   "outputs": [
    {
     "data": {
      "text/plain": [
       "1.6040331652439197"
      ]
     },
     "execution_count": 33,
     "metadata": {},
     "output_type": "execute_result"
    }
   ],
   "source": [
    "model.intercept_[0] + np.dot(model.coef_, X_test.loc[88].values)[0]"
   ]
  },
  {
   "cell_type": "code",
   "execution_count": 34,
   "id": "21d555d3-681f-4eed-ba01-87a19dd5f4d0",
   "metadata": {},
   "outputs": [
    {
     "data": {
      "text/plain": [
       "0.8325813210198211"
      ]
     },
     "execution_count": 34,
     "metadata": {},
     "output_type": "execute_result"
    }
   ],
   "source": [
    "1/(1+np.exp(-(model.intercept_[0] + np.dot(model.coef_, X_test.loc[88].values)[0])))"
   ]
  },
  {
   "cell_type": "code",
   "execution_count": 35,
   "id": "f217ae31-4fed-4f35-9eb8-fef890936c38",
   "metadata": {},
   "outputs": [
    {
     "name": "stdout",
     "output_type": "stream",
     "text": [
      "Accuracy: 0.735\n",
      "Precision: 1.0\n",
      "Recall: 0.018518518518518517\n"
     ]
    }
   ],
   "source": [
    "y_pred = model.predict_proba(X_test)[:,0] < 0.1\n",
    "\n",
    "print(\"Accuracy:\", metrics.accuracy_score(y_test, y_pred))\n",
    "print(\"Precision:\", metrics.precision_score(y_test, y_pred))\n",
    "print(\"Recall:\", metrics.recall_score(y_test, y_pred))"
   ]
  },
  {
   "cell_type": "code",
   "execution_count": 36,
   "id": "206dfdd4-5190-487a-8669-2b9f35eef334",
   "metadata": {},
   "outputs": [
    {
     "name": "stdout",
     "output_type": "stream",
     "text": [
      "Accuracy: 0.745\n",
      "Precision: 0.8\n",
      "Recall: 0.07407407407407407\n"
     ]
    }
   ],
   "source": [
    "y_pred = model.predict_proba(X_test)[:,0] < 0.2\n",
    "\n",
    "print(\"Accuracy:\", metrics.accuracy_score(y_test, y_pred))\n",
    "print(\"Precision:\", metrics.precision_score(y_test, y_pred))\n",
    "print(\"Recall:\", metrics.recall_score(y_test, y_pred))"
   ]
  },
  {
   "cell_type": "code",
   "execution_count": 37,
   "id": "bf6abcf6-aee6-4bd3-b08b-3bcaa806fed1",
   "metadata": {},
   "outputs": [
    {
     "name": "stdout",
     "output_type": "stream",
     "text": [
      "Accuracy: 0.755\n",
      "Precision: 0.7272727272727273\n",
      "Recall: 0.14814814814814814\n"
     ]
    }
   ],
   "source": [
    "y_pred = model.predict_proba(X_test)[:,0] < 0.3\n",
    "\n",
    "print(\"Accuracy:\", metrics.accuracy_score(y_test, y_pred))\n",
    "print(\"Precision:\", metrics.precision_score(y_test, y_pred))\n",
    "print(\"Recall:\", metrics.recall_score(y_test, y_pred))"
   ]
  },
  {
   "cell_type": "code",
   "execution_count": 38,
   "id": "a7741450-fbb7-4c23-bc7a-7d0cfe79fa81",
   "metadata": {},
   "outputs": [
    {
     "name": "stdout",
     "output_type": "stream",
     "text": [
      "Accuracy: 0.775\n",
      "Precision: 0.8\n",
      "Recall: 0.2222222222222222\n"
     ]
    }
   ],
   "source": [
    "y_pred = model.predict_proba(X_test)[:,0] < 0.4\n",
    "\n",
    "print(\"Accuracy:\", metrics.accuracy_score(y_test, y_pred))\n",
    "print(\"Precision:\", metrics.precision_score(y_test, y_pred))\n",
    "print(\"Recall:\", metrics.recall_score(y_test, y_pred))"
   ]
  },
  {
   "cell_type": "code",
   "execution_count": 39,
   "id": "4f07f2c9-cb24-4d3e-99d1-b8bb43bf7610",
   "metadata": {},
   "outputs": [
    {
     "name": "stdout",
     "output_type": "stream",
     "text": [
      "Accuracy: 0.785\n",
      "Precision: 0.7037037037037037\n",
      "Recall: 0.35185185185185186\n"
     ]
    }
   ],
   "source": [
    "y_pred = model.predict_proba(X_test)[:,0] < 0.5\n",
    "\n",
    "print(\"Accuracy:\", metrics.accuracy_score(y_test, y_pred))\n",
    "print(\"Precision:\", metrics.precision_score(y_test, y_pred))\n",
    "print(\"Recall:\", metrics.recall_score(y_test, y_pred))"
   ]
  },
  {
   "cell_type": "code",
   "execution_count": 40,
   "id": "7a45834b-72d3-41c0-8ae7-1d2056db5645",
   "metadata": {},
   "outputs": [
    {
     "name": "stdout",
     "output_type": "stream",
     "text": [
      "Accuracy: 0.79\n",
      "Precision: 0.62\n",
      "Recall: 0.5740740740740741\n"
     ]
    }
   ],
   "source": [
    "y_pred = model.predict_proba(X_test)[:,0] < 0.6\n",
    "\n",
    "print(\"Accuracy:\", metrics.accuracy_score(y_test, y_pred))\n",
    "print(\"Precision:\", metrics.precision_score(y_test, y_pred))\n",
    "print(\"Recall:\", metrics.recall_score(y_test, y_pred))"
   ]
  },
  {
   "cell_type": "code",
   "execution_count": 41,
   "id": "695ebc62-85c1-448e-bdc3-1e98114ed09e",
   "metadata": {},
   "outputs": [
    {
     "name": "stdout",
     "output_type": "stream",
     "text": [
      "Accuracy: 0.77\n",
      "Precision: 0.5625\n",
      "Recall: 0.6666666666666666\n"
     ]
    }
   ],
   "source": [
    "y_pred = model.predict_proba(X_test)[:,0] < 0.7\n",
    "\n",
    "print(\"Accuracy:\", metrics.accuracy_score(y_test, y_pred))\n",
    "print(\"Precision:\", metrics.precision_score(y_test, y_pred))\n",
    "print(\"Recall:\", metrics.recall_score(y_test, y_pred))"
   ]
  },
  {
   "cell_type": "code",
   "execution_count": 42,
   "id": "90dcb0d4-7ac3-404c-b927-affb6d255130",
   "metadata": {},
   "outputs": [
    {
     "name": "stdout",
     "output_type": "stream",
     "text": [
      "Accuracy: 0.72\n",
      "Precision: 0.48863636363636365\n",
      "Recall: 0.7962962962962963\n"
     ]
    }
   ],
   "source": [
    "y_pred = model.predict_proba(X_test)[:,0] < 0.8\n",
    "\n",
    "print(\"Accuracy:\", metrics.accuracy_score(y_test, y_pred))\n",
    "print(\"Precision:\", metrics.precision_score(y_test, y_pred))\n",
    "print(\"Recall:\", metrics.recall_score(y_test, y_pred))"
   ]
  },
  {
   "cell_type": "code",
   "execution_count": 43,
   "id": "45ee0a60-b6cf-4cfa-bdbc-f949c4fe7740",
   "metadata": {},
   "outputs": [
    {
     "name": "stdout",
     "output_type": "stream",
     "text": [
      "Accuracy: 0.6\n",
      "Precision: 0.3984375\n",
      "Recall: 0.9444444444444444\n"
     ]
    }
   ],
   "source": [
    "y_pred = model.predict_proba(X_test)[:,0] < 0.9\n",
    "\n",
    "print(\"Accuracy:\", metrics.accuracy_score(y_test, y_pred))\n",
    "print(\"Precision:\", metrics.precision_score(y_test, y_pred))\n",
    "print(\"Recall:\", metrics.recall_score(y_test, y_pred))"
   ]
  },
  {
   "cell_type": "code",
   "execution_count": 46,
   "id": "686f6737-0e0b-4f50-a96d-707a2868147f",
   "metadata": {},
   "outputs": [],
   "source": [
    "from src import metrics\n",
    "\n",
    "from sklearn.model_selection import cross_validate, StratifiedKFold"
   ]
  },
  {
   "cell_type": "code",
   "execution_count": 47,
   "id": "4d83db90-a8e3-467d-b9b9-8e3a41ebbdc6",
   "metadata": {},
   "outputs": [],
   "source": [
    "train_data = utilities.read_parquet(ger_dataset_path + 'train.parquet')"
   ]
  },
  {
   "cell_type": "code",
   "execution_count": 50,
   "id": "55a21f97-1602-40e7-8285-57cd6e5a1c54",
   "metadata": {},
   "outputs": [],
   "source": [
    "clf = LogisticRegression()\n",
    "\n",
    "scoring = {'roc_auc': metrics.make_scorer(metrics.roc_auc_score),\n",
    "               'emp': metrics.make_scorer(metrics.emp_score)}\n",
    "\n",
    "labels = np.array(train_data[target])\n",
    "data = train_data.drop([target], axis=1, inplace=False)\n",
    "\n",
    "skf = StratifiedKFold(n_splits=3, shuffle=True)\n",
    "\n",
    "scores = cross_validate(clf, data, labels, scoring=scoring, n_jobs=-1, cv=skf)"
   ]
  },
  {
   "cell_type": "code",
   "execution_count": 53,
   "id": "5533d9b6-e4e3-4f5a-bb09-7872b62a65b0",
   "metadata": {},
   "outputs": [
    {
     "data": {
      "text/plain": [
       "{'fit_time': array([0.00448918, 0.00524449, 0.00440335]),\n",
       " 'score_time': array([0.00329328, 0.00444531, 0.00341368]),\n",
       " 'test_roc_auc': array([0.69381684, 0.73402406, 0.68010753]),\n",
       " 'test_emp': array([0.03736722, 0.04568671, 0.03745333])}"
      ]
     },
     "execution_count": 53,
     "metadata": {},
     "output_type": "execute_result"
    }
   ],
   "source": [
    "scores"
   ]
  },
  {
   "cell_type": "code",
   "execution_count": 54,
   "id": "9dda5031-7137-48cd-bc82-96f153631a9b",
   "metadata": {},
   "outputs": [
    {
     "data": {
      "text/plain": [
       "0.7026494786575431"
      ]
     },
     "execution_count": 54,
     "metadata": {},
     "output_type": "execute_result"
    }
   ],
   "source": [
    "scores['test_roc_auc'].mean()"
   ]
  },
  {
   "cell_type": "code",
   "execution_count": 55,
   "id": "28c8c689-4853-4f11-9a22-1c2d39d07e2a",
   "metadata": {},
   "outputs": [
    {
     "data": {
      "text/plain": [
       "0.040169089323106935"
      ]
     },
     "execution_count": 55,
     "metadata": {},
     "output_type": "execute_result"
    }
   ],
   "source": [
    "scores['test_emp'].mean()"
   ]
  },
  {
   "cell_type": "code",
   "execution_count": null,
   "id": "ab60646e-0306-4696-bb28-0cc49eb2bf7d",
   "metadata": {},
   "outputs": [],
   "source": []
  }
 ],
 "metadata": {
  "kernelspec": {
   "display_name": "Python 3 (ipykernel)",
   "language": "python",
   "name": "python3"
  },
  "language_info": {
   "codemirror_mode": {
    "name": "ipython",
    "version": 3
   },
   "file_extension": ".py",
   "mimetype": "text/x-python",
   "name": "python",
   "nbconvert_exporter": "python",
   "pygments_lexer": "ipython3",
   "version": "3.10.6"
  }
 },
 "nbformat": 4,
 "nbformat_minor": 5
}
