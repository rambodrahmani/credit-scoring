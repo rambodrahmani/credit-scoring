{
 "cells": [
  {
   "cell_type": "markdown",
   "id": "ac73c7d6-33e3-498e-a4ab-bd1d85572b12",
   "metadata": {},
   "source": [
    "# **XGBoost Hyperparamters Optimization**"
   ]
  },
  {
   "cell_type": "markdown",
   "id": "8857c5c6-f05e-4cd0-a66b-53a8ff939eb7",
   "metadata": {},
   "source": [
    "## **AUS Dataset**"
   ]
  },
  {
   "cell_type": "code",
   "execution_count": null,
   "id": "f296d270-8860-4084-8b8e-6cacfd08ea66",
   "metadata": {},
   "outputs": [],
   "source": [
    "from src import utilities\n",
    "from src import optimization"
   ]
  },
  {
   "cell_type": "code",
   "execution_count": null,
   "id": "076e516f-f4ff-41ab-b1e1-cb15074b405d",
   "metadata": {},
   "outputs": [],
   "source": [
    "aus_dataset_path = '../../../datasets/preprocessed/aus/'\n",
    "features_scores = utilities.read_features_scores(aus_dataset_path)\n",
    "train_data = utilities.read_parquet(aus_dataset_path + 'train.parquet')\n",
    "\n",
    "optimization.optuna_search(objective=optimization.xgb_objective,\n",
    "                           model_name='optuna-xgb-aus', data=train_data,\n",
    "                           target='defaulted', k_folds=2,\n",
    "                           features_scores=features_scores, features=11,\n",
    "                           n_trials=100000, verbose=True)"
   ]
  },
  {
   "cell_type": "markdown",
   "id": "b785db8e-c50a-4f63-a369-10134a6f29dd",
   "metadata": {},
   "source": [
    "## **GER Dataset**"
   ]
  },
  {
   "cell_type": "code",
   "execution_count": null,
   "id": "76c3f715-421c-4877-a2ae-5a9075cb6937",
   "metadata": {},
   "outputs": [],
   "source": [
    "from src import utilities\n",
    "from src import optimization"
   ]
  },
  {
   "cell_type": "code",
   "execution_count": null,
   "id": "4ea5b2dd-31a2-4d13-9509-e8630cde6d24",
   "metadata": {},
   "outputs": [],
   "source": [
    "ger_dataset_path = '../../../datasets/preprocessed/ger/'\n",
    "features_scores = utilities.read_features_scores(ger_dataset_path)\n",
    "train_data = utilities.read_parquet(ger_dataset_path + 'train.parquet')\n",
    "\n",
    "optimization.optuna_search(objective=optimization.xgb_objective,\n",
    "                           model_name='optuna-xgb-ger', data=train_data,\n",
    "                           target='defaulted', k_folds=2,\n",
    "                           features_scores=features_scores, features=14,\n",
    "                           n_trials=100000, verbose=True)"
   ]
  },
  {
   "cell_type": "markdown",
   "id": "ecedfbc3-b53f-4fd5-88b3-5d482882260a",
   "metadata": {},
   "source": [
    "## **HEL Dataset**"
   ]
  },
  {
   "cell_type": "code",
   "execution_count": null,
   "id": "6fee61f7-6dfc-4a53-b791-9015e26cd37c",
   "metadata": {},
   "outputs": [],
   "source": [
    "from src import utilities\n",
    "from src import optimization"
   ]
  },
  {
   "cell_type": "code",
   "execution_count": null,
   "id": "4328774b-a8a3-4106-aa7c-453f09977984",
   "metadata": {},
   "outputs": [],
   "source": [
    "hel_dataset_path = '../../../datasets/preprocessed/hel/'\n",
    "features_scores = utilities.read_features_scores(hel_dataset_path)\n",
    "train_data = utilities.read_parquet(hel_dataset_path + 'train.parquet')\n",
    "\n",
    "optimization.optuna_search(objective=optimization.xgb_objective,\n",
    "                           model_name='optuna-xgb-hel', data=train_data,\n",
    "                           target='defaulted', k_folds=2,\n",
    "                           features_scores=features_scores, features=9,\n",
    "                           n_trials=100000, verbose=True)"
   ]
  },
  {
   "cell_type": "markdown",
   "id": "006c2fec-bafd-47de-81f2-55dda40e8581",
   "metadata": {},
   "source": [
    "## **HELOC Dataset**"
   ]
  },
  {
   "cell_type": "code",
   "execution_count": null,
   "id": "6738e444-8933-472e-ad7b-8e18d4e59b57",
   "metadata": {},
   "outputs": [],
   "source": [
    "from src import utilities\n",
    "from src import optimization"
   ]
  },
  {
   "cell_type": "code",
   "execution_count": null,
   "id": "3c0e689b-3f04-4c7e-90dd-62f5b936e987",
   "metadata": {},
   "outputs": [],
   "source": [
    "heloc_dataset_path = '../../../datasets/preprocessed/heloc/'\n",
    "features_scores = utilities.read_features_scores(heloc_dataset_path)\n",
    "train_data = utilities.read_parquet(heloc_dataset_path + 'train.parquet')\n",
    "\n",
    "optimization.optuna_search(objective=optimization.xgb_objective,\n",
    "                           model_name='optuna-xgb-heloc', data=train_data,\n",
    "                           target='defaulted', k_folds=3,\n",
    "                           features_scores=features_scores, features=17,\n",
    "                           n_trials=100000, verbose=True)"
   ]
  },
  {
   "cell_type": "markdown",
   "id": "e02539e9-e6c8-43b7-a79c-c9c0a7732364",
   "metadata": {},
   "source": [
    "## **POL Dataset**"
   ]
  },
  {
   "cell_type": "code",
   "execution_count": null,
   "id": "093b7818-abfe-4598-92fb-9ef5eff74f11",
   "metadata": {},
   "outputs": [],
   "source": [
    "from src import utilities\n",
    "from src import optimization"
   ]
  },
  {
   "cell_type": "code",
   "execution_count": null,
   "id": "ce1112ff-7567-4741-b90b-b07fe92ce56d",
   "metadata": {},
   "outputs": [],
   "source": [
    "pol_dataset_path = '../../../datasets/preprocessed/pol/'\n",
    "features_scores = utilities.read_features_scores(pol_dataset_path)\n",
    "train_data = utilities.read_parquet(pol_dataset_path + 'train.parquet')\n",
    "\n",
    "optimization.optuna_search(objective=optimization.xgb_objective,\n",
    "                           model_name='optuna-xgb-pol', data=train_data,\n",
    "                           target='defaulted', k_folds=3,\n",
    "                           features_scores=features_scores, features=21,\n",
    "                           n_trials=100000, verbose=True)"
   ]
  },
  {
   "cell_type": "markdown",
   "id": "3a53ef3d-cf76-47cd-96f4-16746cb00700",
   "metadata": {},
   "source": [
    "## **GMSC Dataset**"
   ]
  },
  {
   "cell_type": "code",
   "execution_count": null,
   "id": "b277b334-d5d8-4b64-bef3-3986946e08d0",
   "metadata": {},
   "outputs": [],
   "source": [
    "from src import utilities\n",
    "from src import optimization"
   ]
  },
  {
   "cell_type": "code",
   "execution_count": null,
   "id": "560fe15c-1f1f-4154-bc35-881ec86855cd",
   "metadata": {},
   "outputs": [],
   "source": [
    "gmsc_dataset_path = '../../../datasets/preprocessed/gmsc/'\n",
    "features_scores = utilities.read_features_scores(gmsc_dataset_path)\n",
    "train_data = utilities.read_parquet(gmsc_dataset_path + 'train.parquet')\n",
    "\n",
    "optimization.optuna_search(objective=optimization.xgb_objective,\n",
    "                           model_name='optuna-xgb-gmsc', data=train_data,\n",
    "                           target='defaulted', k_folds=3,\n",
    "                           features_scores=features_scores, features=10,\n",
    "                           n_trials=100000, verbose=True)"
   ]
  },
  {
   "cell_type": "markdown",
   "id": "3fbff83a-d3be-4584-be71-b3c91290cb6b",
   "metadata": {},
   "source": [
    "## **HCDR Dataset**"
   ]
  },
  {
   "cell_type": "code",
   "execution_count": null,
   "id": "add4d4d6-3f16-465c-b844-eba39c7b122f",
   "metadata": {},
   "outputs": [],
   "source": [
    "from src import utilities\n",
    "from src import optimization"
   ]
  },
  {
   "cell_type": "code",
   "execution_count": null,
   "id": "1bfa7876-f167-41e1-8841-f9176860156f",
   "metadata": {},
   "outputs": [],
   "source": [
    "hcdr_dataset_path = '../../../datasets/preprocessed/hcdr/'\n",
    "features_scores = utilities.read_features_scores(hcdr_dataset_path)\n",
    "train_data = utilities.read_parquet(hcdr_dataset_path + 'train.parquet')\n",
    "\n",
    "optimization.optuna_search(objective=optimization.xgb_objective,\n",
    "                           model_name='optuna-xgb-hcdr', data=train_data,\n",
    "                           target='defaulted', k_folds=3,\n",
    "                           features_scores=features_scores, features=28,\n",
    "                           n_trials=100000, verbose=True)"
   ]
  }
 ],
 "metadata": {
  "kernelspec": {
   "display_name": "Python 3 (ipykernel)",
   "language": "python",
   "name": "python3"
  },
  "language_info": {
   "codemirror_mode": {
    "name": "ipython",
    "version": 3
   },
   "file_extension": ".py",
   "mimetype": "text/x-python",
   "name": "python",
   "nbconvert_exporter": "python",
   "pygments_lexer": "ipython3",
   "version": "3.10.6"
  }
 },
 "nbformat": 4,
 "nbformat_minor": 5
}
